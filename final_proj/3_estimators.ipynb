{
 "cells": [
  {
   "cell_type": "code",
   "execution_count": 25,
   "id": "266720c7-42d9-4206-82a2-c96c1afc4db4",
   "metadata": {},
   "outputs": [],
   "source": [
    "import pandas as pd\n",
    "import numpy as np\n",
    "import matplotlib.pyplot as plt\n",
    "import time\n",
    "\n",
    "from multiprocessing.pool import ThreadPool\n",
    "from multiprocessing import cpu_count\n",
    "max_cpu = cpu_count()"
   ]
  },
  {
   "cell_type": "code",
   "execution_count": 31,
   "id": "5e4bbea7-81d7-4180-b608-e3ac359f1581",
   "metadata": {},
   "outputs": [],
   "source": [
    "from sklearn.linear_model import LassoCV\n",
    "\n",
    "def np_standardize(arr):\n",
    "    return (arr - np.mean(arr,axis=0))/np.std(arr,axis=0)\n",
    "\n",
    "def postlassoIV(y,X,Z):\n",
    "    Z_standard = np_standardize(Z)\n",
    "    lasso = LassoCV()\n",
    "    lasso.fit(X,Z_standard)\n",
    "    var_select = [i for i, coef in enumerate(lasso.coef_.flatten()) if coef != 0]\n",
    "    Z_select = Z.loc[:,var_select]\n",
    "    \n",
    "    # beta1 = OLS(X_select,Y)\n",
    "    beta1 = np.cov(Y,Z_select) / np.cov (X,Z_select)\n",
    "    return beta1"
   ]
  },
  {
   "cell_type": "code",
   "execution_count": 32,
   "id": "25ca3df7-ad8b-4079-939f-c6b635b80597",
   "metadata": {},
   "outputs": [],
   "source": [
    "df = pd.read_csv('data/partialled_noint.csv')"
   ]
  },
  {
   "cell_type": "code",
   "execution_count": 33,
   "id": "9c691138-59a3-44b4-b7cc-d0f5846c6960",
   "metadata": {},
   "outputs": [],
   "source": [
    "y = df['lsales'].to_numpy()\n",
    "X = df.filter(regex='^lprice$|^timefe_.*$').to_numpy()\n",
    "Z = df.filter(regex='^aftexpl\\.dist_to_ref|^.*timefe_.*$').to_numpy()"
   ]
  },
  {
   "cell_type": "code",
   "execution_count": 34,
   "id": "1e13676d-9188-4406-8b10-c7e18defaf5f",
   "metadata": {},
   "outputs": [
    {
     "ename": "ValueError",
     "evalue": "For multi-task outputs, use MultiTaskLassoCV",
     "output_type": "error",
     "traceback": [
      "\u001b[0;31m---------------------------------------------------------------------------\u001b[0m",
      "\u001b[0;31mValueError\u001b[0m                                Traceback (most recent call last)",
      "Cell \u001b[0;32mIn[34], line 1\u001b[0m\n\u001b[0;32m----> 1\u001b[0m \u001b[43mpostlassoIV\u001b[49m\u001b[43m(\u001b[49m\u001b[43my\u001b[49m\u001b[43m,\u001b[49m\u001b[43mX\u001b[49m\u001b[43m,\u001b[49m\u001b[43mZ\u001b[49m\u001b[43m)\u001b[49m\n",
      "Cell \u001b[0;32mIn[31], line 9\u001b[0m, in \u001b[0;36mpostlassoIV\u001b[0;34m(y, X, Z)\u001b[0m\n\u001b[1;32m      7\u001b[0m Z_standard \u001b[38;5;241m=\u001b[39m np_standardize(Z)\n\u001b[1;32m      8\u001b[0m lasso \u001b[38;5;241m=\u001b[39m LassoCV()\n\u001b[0;32m----> 9\u001b[0m \u001b[43mlasso\u001b[49m\u001b[38;5;241;43m.\u001b[39;49m\u001b[43mfit\u001b[49m\u001b[43m(\u001b[49m\u001b[43mX\u001b[49m\u001b[43m,\u001b[49m\u001b[43mZ_standard\u001b[49m\u001b[43m)\u001b[49m\n\u001b[1;32m     10\u001b[0m var_select \u001b[38;5;241m=\u001b[39m [i \u001b[38;5;28;01mfor\u001b[39;00m i, coef \u001b[38;5;129;01min\u001b[39;00m \u001b[38;5;28menumerate\u001b[39m(lasso\u001b[38;5;241m.\u001b[39mcoef_\u001b[38;5;241m.\u001b[39mflatten()) \u001b[38;5;28;01mif\u001b[39;00m coef \u001b[38;5;241m!=\u001b[39m \u001b[38;5;241m0\u001b[39m]\n\u001b[1;32m     11\u001b[0m Z_select \u001b[38;5;241m=\u001b[39m Z\u001b[38;5;241m.\u001b[39mloc[:,var_select]\n",
      "File \u001b[0;32m/opt/anaconda3/envs/classes/lib/python3.10/site-packages/sklearn/linear_model/_coordinate_descent.py:1558\u001b[0m, in \u001b[0;36mLinearModelCV.fit\u001b[0;34m(self, X, y, sample_weight)\u001b[0m\n\u001b[1;32m   1556\u001b[0m \u001b[38;5;28;01mif\u001b[39;00m \u001b[38;5;129;01mnot\u001b[39;00m \u001b[38;5;28mself\u001b[39m\u001b[38;5;241m.\u001b[39m_is_multitask():\n\u001b[1;32m   1557\u001b[0m     \u001b[38;5;28;01mif\u001b[39;00m y\u001b[38;5;241m.\u001b[39mndim \u001b[38;5;241m>\u001b[39m \u001b[38;5;241m1\u001b[39m \u001b[38;5;129;01mand\u001b[39;00m y\u001b[38;5;241m.\u001b[39mshape[\u001b[38;5;241m1\u001b[39m] \u001b[38;5;241m>\u001b[39m \u001b[38;5;241m1\u001b[39m:\n\u001b[0;32m-> 1558\u001b[0m         \u001b[38;5;28;01mraise\u001b[39;00m \u001b[38;5;167;01mValueError\u001b[39;00m(\n\u001b[1;32m   1559\u001b[0m             \u001b[38;5;124m\"\u001b[39m\u001b[38;5;124mFor multi-task outputs, use MultiTask\u001b[39m\u001b[38;5;132;01m%s\u001b[39;00m\u001b[38;5;124m\"\u001b[39m \u001b[38;5;241m%\u001b[39m \u001b[38;5;28mself\u001b[39m\u001b[38;5;241m.\u001b[39m\u001b[38;5;18m__class__\u001b[39m\u001b[38;5;241m.\u001b[39m\u001b[38;5;18m__name__\u001b[39m\n\u001b[1;32m   1560\u001b[0m         )\n\u001b[1;32m   1561\u001b[0m     y \u001b[38;5;241m=\u001b[39m column_or_1d(y, warn\u001b[38;5;241m=\u001b[39m\u001b[38;5;28;01mTrue\u001b[39;00m)\n\u001b[1;32m   1562\u001b[0m \u001b[38;5;28;01melse\u001b[39;00m:\n",
      "\u001b[0;31mValueError\u001b[0m: For multi-task outputs, use MultiTaskLassoCV"
     ]
    }
   ],
   "source": [
    "postlassoIV(y,X,Z)"
   ]
  },
  {
   "cell_type": "code",
   "execution_count": null,
   "id": "1e67e45e-35a2-4ae3-b795-2df06d728f10",
   "metadata": {},
   "outputs": [],
   "source": []
  }
 ],
 "metadata": {
  "kernelspec": {
   "display_name": "class",
   "language": "python",
   "name": "class"
  },
  "language_info": {
   "codemirror_mode": {
    "name": "ipython",
    "version": 3
   },
   "file_extension": ".py",
   "mimetype": "text/x-python",
   "name": "python",
   "nbconvert_exporter": "python",
   "pygments_lexer": "ipython3",
   "version": "3.10.9"
  }
 },
 "nbformat": 4,
 "nbformat_minor": 5
}
