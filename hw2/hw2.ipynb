{
 "cells": [
  {
   "cell_type": "code",
   "execution_count": 14,
   "id": "a810d75f-3f0a-4e7b-af53-52ca95c26efe",
   "metadata": {},
   "outputs": [],
   "source": [
    "import pandas as pd\n",
    "import numpy as np\n",
    "import matplotlib.pyplot as plt\n",
    "import time\n",
    "\n",
    "from multiprocessing.pool import ThreadPool"
   ]
  },
  {
   "cell_type": "markdown",
   "id": "f88c1f5f-cd8c-4ac8-b94b-f465ee3d4de9",
   "metadata": {},
   "source": [
    "Note: When doing CV and standardizing, don't include testing data when calculating mean and sd since that causes the testing data to influence the training data. Just take mean and sd of training and standardize both training and testing using those. \n"
   ]
  },
  {
   "cell_type": "markdown",
   "id": "c226cf7d-1e98-4dd0-a2f6-c97d4df164d4",
   "metadata": {},
   "source": [
    "# Homework (Lecture 5)\n",
    "\n",
    "## Problem 1"
   ]
  },
  {
   "cell_type": "code",
   "execution_count": null,
   "id": "c128f49d-b900-41fe-89f5-c1630b66ae53",
   "metadata": {},
   "outputs": [],
   "source": [
    "def load_data():\n",
    "    df = pd.read_csv('boston.csv')\n",
    "    X = df.drop(['ZN','CHAS','MEDV'],axis=1)\n",
    "    Y = np.log10(df['MEDV'])\n",
    "    return X,Y\n",
    "\n",
    "def calc_ahat(X,Y,n,j,betas):\n",
    "    prod = (Y - sum(X.drop(X.columns[j], axis=1) @ np.delete(betas,j)))\n",
    "    a_hat = (1/n) * sum(X.iloc[:,j] * prod)\n",
    "    return a_hat\n",
    "    \n",
    "def calc_betaj(X,Y,n,j,betas,lambda_):\n",
    "    a_hat = calc_ahat(X,Y,n,j,betas)\n",
    "    sign = np.sign(a_hat)\n",
    "    max_right = max(np.abs(a_hat) - (n/2)*lambda_,0)\n",
    "    beta_hat_j = sign * max_right\n",
    "    return beta_hat_j\n",
    "\n",
    "def lasso(X,Y,lambda_,epsilon=1e-6):\n",
    "    n = X.shape[0]\n",
    "    p = X.shape[1]\n",
    "    betas = np.random.normal(size=p)\n",
    "    err = 1\n",
    "    while err > epsilon:\n",
    "        last_beta = betas.copy()\n",
    "        for j in np.arange(p):\n",
    "            betas[j] = calc_betaj(X,Y,n,j,betas,lambda_)\n",
    "        err = np.sum(np.abs(betas-last_beta))\n",
    "    return betas\n",
    "\n",
    "def normalize(df):\n",
    "    return (df - df.mean())/df.std()\n",
    "    \n",
    "def train_test_split(X,Y,folds,i):\n",
    "    temp = folds[:]\n",
    "    testing_idx = temp.pop(i)\n",
    "    training_idx = np.concatenate(temp)\n",
    "    X_train, X_test, Y_train, Y_test = X.iloc[training_idx,:], X.iloc[testing_idx,:], Y.iloc[training_idx,], Y.iloc[testing_idx,]\n",
    "    X_train = normalize(X_train)\n",
    "    X_train['const'] = 1\n",
    "    X_test = normalize(X_test)\n",
    "    X_test['const'] = 1\n",
    "    return X_train, X_test, Y_train, Y_test\n",
    "\n",
    "def sse(predicted,actual):\n",
    "    return sum((predicted - actual) ** 2)\n",
    "\n",
    "def cv(lambda_,k=5):\n",
    "    X,Y = load_data()\n",
    "    n = X.shape[0]\n",
    "    # creating indices for folds\n",
    "    folds = []\n",
    "    remaining_idx = np.arange(n)\n",
    "    for i in np.arange(k):\n",
    "        indices = np.random.choice(remaining_idx,round(n * 1/k), replace=False)\n",
    "        remaining_idx = np.setdiff1d(remaining_idx, indices)\n",
    "        folds.append(indices)\n",
    "        \n",
    "    # calculating total error\n",
    "    total_error = 0\n",
    "    for i,_ in enumerate(folds):\n",
    "        X_train, X_test, Y_train, Y_test = train_test_split(X,Y,folds,i)\n",
    "        betas = lasso(X_train,Y_train,lambda_)\n",
    "        predicted = X_test @ betas\n",
    "        error = sse(predicted,Y_test)\n",
    "        total_error += error\n",
    "    return (betas, lambda_, total_error)"
   ]
  },
  {
   "cell_type": "code",
   "execution_count": 2,
   "id": "0524fb56-712c-407a-98ce-4a31b8c04fce",
   "metadata": {},
   "outputs": [],
   "source": [
    "from multiprocessing import cpu_count\n",
    "max_cpu = cpu_count()"
   ]
  },
  {
   "cell_type": "code",
   "execution_count": null,
   "id": "154d2947-9092-4586-b980-cc6ff213c757",
   "metadata": {},
   "outputs": [],
   "source": [
    "#%%timeit\n",
    "lambdas = np.linspace(0,1e-3,1000)\n",
    "with ThreadPool(max_cpu - 1) as pool:\n",
    "    output = pool.map(cv,lambdas)"
   ]
  },
  {
   "cell_type": "code",
   "execution_count": null,
   "id": "2dd34534-d179-4d48-9fe5-297f78522937",
   "metadata": {},
   "outputs": [],
   "source": [
    "betas = []\n",
    "lambdas = []\n",
    "errors = []\n",
    "\n",
    "for b,l,err in output:\n",
    "    betas.append(b)\n",
    "    lambdas.append(l)\n",
    "    errors.append(err)\n",
    "    \n",
    "plt.figure(figsize=[8,5])\n",
    "plt.scatter(x = lambdas, y = errors)"
   ]
  },
  {
   "cell_type": "code",
   "execution_count": null,
   "id": "8c55e131-7cce-4475-a0a4-b3864a254150",
   "metadata": {},
   "outputs": [],
   "source": [
    "prob_1_results = pd.DataFrame({'Betas':betas,'Lambda':lambdas,'Errors':errors}).sort_values(by='Errors')"
   ]
  },
  {
   "cell_type": "code",
   "execution_count": null,
   "id": "0665fc2e-4e77-40d7-9524-001badad98b7",
   "metadata": {},
   "outputs": [],
   "source": [
    "prob_1_results['Betas'].values[0]"
   ]
  },
  {
   "cell_type": "code",
   "execution_count": null,
   "id": "be018294-b729-476c-a511-25b16ea00b1c",
   "metadata": {},
   "outputs": [],
   "source": [
    "prob_1_results['Lambda'].values[0]"
   ]
  },
  {
   "cell_type": "code",
   "execution_count": null,
   "id": "01f6a4f5-ecfc-4e17-ad3f-8f1ae386c93a",
   "metadata": {},
   "outputs": [],
   "source": [
    "prob_1_results['Errors'].values[0]"
   ]
  },
  {
   "cell_type": "markdown",
   "id": "01274cfe-8cb8-4a9d-8335-bee08e65d621",
   "metadata": {},
   "source": [
    "## Problem 2\n",
    "\n",
    "### Part (a)"
   ]
  },
  {
   "cell_type": "code",
   "execution_count": 3,
   "id": "3930035c-43ad-4b0f-9cef-32603f91b920",
   "metadata": {},
   "outputs": [],
   "source": [
    "def DGP(k=5):\n",
    "    '''\n",
    "    Generates sparse data with explanatory variable of interest D, potentially relevant covariates W\n",
    "    and outcome Y.\n",
    "    \n",
    "    Parameter:\n",
    "        k (int): determines number of relevant controls\n",
    "        \n",
    "    Returns D, W, X, and Y where X is just D concatenated with W\n",
    "    '''\n",
    "    W_relevant = np.random.rand(200,k) + 1\n",
    "    W_noise = np.random.rand(200,50-k) * np.random.normal(scale=3,size=50-k)\n",
    "    W = np.concatenate((W_relevant,W_noise),axis=1)\n",
    "    D = np.random.rand(1,200).reshape(-1,1) + (W_relevant @ (np.random.poisson(2.2,size=k) + 1)).reshape(200,1)\n",
    "    Y = (D * 3 + (W_relevant @ np.ones(k)).reshape(200,1)  + np.random.normal(size=200).reshape(200,1)).flatten()\n",
    "    X = np.concatenate((D,W),axis=1)\n",
    "    return D,W,X,Y"
   ]
  },
  {
   "cell_type": "markdown",
   "id": "a0f2fdf0-e689-4e5d-920c-33f3cd36c5f9",
   "metadata": {},
   "source": [
    "### Part (b)"
   ]
  },
  {
   "cell_type": "code",
   "execution_count": 64,
   "id": "c490d66f-cc6b-49f8-a003-00c506c08a9a",
   "metadata": {},
   "outputs": [
    {
     "ename": "ModuleNotFoundError",
     "evalue": "No module named 'cvxpy'",
     "output_type": "error",
     "traceback": [
      "\u001b[0;31m---------------------------------------------------------------------------\u001b[0m",
      "\u001b[0;31mModuleNotFoundError\u001b[0m                       Traceback (most recent call last)",
      "\u001b[0;32m/var/folders/fp/_7x5x4s175369fk6b5b5xhy40000gn/T/ipykernel_34541/861457998.py\u001b[0m in \u001b[0;36m<module>\u001b[0;34m\u001b[0m\n\u001b[1;32m      1\u001b[0m \u001b[0;32mfrom\u001b[0m \u001b[0msklearn\u001b[0m\u001b[0;34m.\u001b[0m\u001b[0mlinear_model\u001b[0m \u001b[0;32mimport\u001b[0m \u001b[0mLinearRegression\u001b[0m\u001b[0;34m,\u001b[0m \u001b[0mLassoCV\u001b[0m\u001b[0;34m\u001b[0m\u001b[0;34m\u001b[0m\u001b[0m\n\u001b[0;32m----> 2\u001b[0;31m \u001b[0;32mimport\u001b[0m \u001b[0mcvxpy\u001b[0m \u001b[0;32mas\u001b[0m \u001b[0mcp\u001b[0m\u001b[0;34m\u001b[0m\u001b[0;34m\u001b[0m\u001b[0m\n\u001b[0m",
      "\u001b[0;31mModuleNotFoundError\u001b[0m: No module named 'cvxpy'"
     ]
    }
   ],
   "source": [
    "from sklearn.linear_model import LinearRegression, LassoCV\n",
    "import cvxpy as cp"
   ]
  },
  {
   "cell_type": "code",
   "execution_count": 5,
   "id": "ba96e29c-930b-4d2b-aede-dcdd43712b53",
   "metadata": {},
   "outputs": [],
   "source": [
    "def np_standardize(arr):\n",
    "    return (arr - np.mean(arr,axis=0))/np.std(arr,axis=0)\n",
    "\n",
    "def OLS(X,Y):\n",
    "    ols = LinearRegression().fit(X,Y)\n",
    "    beta_1 = ols.coef_.flatten()[0]\n",
    "    return beta_1\n",
    "\n",
    "def Lasso(X,Y):\n",
    "    X = np_standardize(X)\n",
    "    lasso = LassoCV().fit(X,Y)\n",
    "    beta_1 = lasso.coef_.flatten()[0]\n",
    "    return beta_1\n",
    "\n",
    "def Dantzig(X,Y):\n",
    "    X = np_standardize(X)\n",
    "    n = X.shape[0]\n",
    "    p = X.shape[1]\n",
    "    lambda_ = np.sqrt((2 * np.log(p)) / n)\n",
    "    \n",
    "    betas = cp.Variable(p)\n",
    "    objective = cp.Minimize(cp.norm1(betas))\n",
    "    constraints = [cp.abs((1/n) * cp.sum(cp.multiply(X[:,j], (Y - X @ betas)))) <= lambda_ for j in range(p)]\n",
    "    prob = cp.Problem(objective, constraints)\n",
    "    prob.solve()\n",
    "    return betas.value[0]\n",
    "\n",
    "def Post(X,Y):\n",
    "    # variable selection\n",
    "    X_standard = np_standardize(X)\n",
    "    lasso = LassoCV()\n",
    "    lasso.fit(X_standard,Y)\n",
    "    var_select = [i for i, coef in enumerate(lasso.coef_.flatten()) if coef != 0]\n",
    "    X_select = X[:,var_select]\n",
    "    \n",
    "    # OLS\n",
    "    beta1 = OLS(X_select,Y)\n",
    "    return beta1\n",
    "\n",
    "def Double(D,W,X,Y):\n",
    "    X_standard = np_standardize(X)\n",
    "    W_standard = np_standardize(W)\n",
    "    # obtain gamma\n",
    "    lasso1 = LassoCV().fit(W_standard,D.flatten())\n",
    "    gamma = lasso1.coef_\n",
    "    \n",
    "    # beta1, beta2\n",
    "    lasso2 = LassoCV().fit(X_standard,Y)\n",
    "    beta_1 = lasso2.coef_.flatten()[0]\n",
    "    beta_2 = lasso2.coef_.flatten()[1:]\n",
    "    \n",
    "    # estimation\n",
    "    n = X.shape[0]\n",
    "    num = (1/n) * (np.sum((Y - W @ beta_2) * (D.flatten() - W @ gamma)))\n",
    "    denom = (1/n) * (np.sum(D.flatten() * (D.flatten() - W @ gamma)))\n",
    "    beta_DL = num / denom\n",
    "    return beta_DL"
   ]
  },
  {
   "cell_type": "markdown",
   "id": "72e99c29-8887-462a-b682-bf680e7ce655",
   "metadata": {},
   "source": [
    "### Part (c)"
   ]
  },
  {
   "cell_type": "code",
   "execution_count": 6,
   "id": "5a895d8c-e05e-42ac-b855-43b86e63451f",
   "metadata": {},
   "outputs": [],
   "source": [
    "def get_betas(D,W,X,Y):\n",
    "    beta_ols = OLS(X,Y)\n",
    "    beta_lasso = Lasso(X,Y)\n",
    "    beta_dantzig = Dantzig(X,Y)\n",
    "    beta_post = Post(X,Y)\n",
    "    beta_double = Double(D,W,X,Y)\n",
    "    return beta_ols, beta_lasso, beta_dantzig, beta_post, beta_double\n",
    "\n",
    "def sim(i):\n",
    "    D,W,X,Y = DGP()\n",
    "    betas = get_betas(D,W,X,Y)\n",
    "    return betas"
   ]
  },
  {
   "cell_type": "code",
   "execution_count": 7,
   "id": "da6cc114-4551-412c-bcd0-718ae47dd54e",
   "metadata": {
    "tags": []
   },
   "outputs": [],
   "source": [
    "with ThreadPool(max_cpu - 1) as pool:\n",
    "    output = pool.map(sim,np.arange(200))"
   ]
  },
  {
   "cell_type": "code",
   "execution_count": 11,
   "id": "c20394ed-a608-4e16-8da7-d8b42e25c7c9",
   "metadata": {},
   "outputs": [],
   "source": [
    "prob2_results = pd.DataFrame(np.array(output),columns = ['OLS', 'Lasso', 'Dantzig','Post-Lasso','Double-Lasso'])"
   ]
  },
  {
   "cell_type": "code",
   "execution_count": 26,
   "id": "192aec42-57d2-49e7-910d-a2839d8cd92d",
   "metadata": {},
   "outputs": [
    {
     "data": {
      "image/png": "[encoded data removed]",
      "text/plain": [
       "<Figure size 1250x1250 with 5 Axes>"
      ]
     },
     "metadata": {},
     "output_type": "display_data"
    }
   ],
   "source": [
    "fig, ax = plt.subplots(nrows=prob2_results.shape[1])\n",
    "fig.set_size_inches((10,10))\n",
    "fig.set_dpi(125)\n",
    "fig.tight_layout()\n",
    "for i,name in enumerate(prob2_results.columns):\n",
    "    ax[i].hist(prob2_results[name]-3,bins=35)\n",
    "    ax[i].axvline(color='red')\n",
    "    ax[i].set_title(name)"
   ]
  },
  {
   "cell_type": "markdown",
   "id": "ea4f0b36-613d-4ae0-9433-d418e0b3fc9b",
   "metadata": {},
   "source": [
    "# Homework (Lecture 6)\n",
    "\n",
    "## Problem 1\n",
    "\n",
    "### Part (1)"
   ]
  },
  {
   "cell_type": "code",
   "execution_count": 33,
   "id": "c6d83606-84b6-4a72-93d3-29d237fde096",
   "metadata": {},
   "outputs": [
    {
     "name": "stdout",
     "output_type": "stream",
     "text": [
      "(array([1.8, 0.2, 1.5, 0.5]), array([[ 0.70710678, -0.70710678,  0.        ,  0.        ],\n",
      "       [ 0.70710678,  0.70710678,  0.        ,  0.        ],\n",
      "       [ 0.        , -0.        ,  0.70710678, -0.70710678],\n",
      "       [ 0.        , -0.        ,  0.70710678,  0.70710678]]))\n"
     ]
    }
   ],
   "source": [
    "X = np.array(([1,0.8,0,0],[0.8,1,0,0],[0,0,1,0.5],[0,0,0.5,1]))\n",
    "print(np.linalg.eig(X))\n",
    "V = np.linalg.svd(X)[2].T\n",
    "v_1 = V[:,0]\n",
    "U_1 = X @ v_1\n",
    "v_2 = V[:,1]\n",
    "U_2 = X @ v_2"
   ]
  },
  {
   "cell_type": "code",
   "execution_count": 38,
   "id": "53203448-c480-4c94-be8a-07cc015f5780",
   "metadata": {},
   "outputs": [
    {
     "data": {
      "text/plain": [
       "array([[ 0.70710678,  0.70710678,  0.        ,  0.        ],\n",
       "       [-0.70710678,  0.70710678, -0.        , -0.        ],\n",
       "       [ 0.        ,  0.        ,  0.70710678,  0.70710678],\n",
       "       [ 0.        ,  0.        , -0.70710678,  0.70710678]])"
      ]
     },
     "execution_count": 38,
     "metadata": {},
     "output_type": "execute_result"
    }
   ],
   "source": [
    "np.linalg.eig(X)[1].T"
   ]
  },
  {
   "cell_type": "code",
   "execution_count": 36,
   "id": "84661bf7-b536-481a-9f40-b08cffd5395e",
   "metadata": {},
   "outputs": [
    {
     "data": {
      "text/plain": [
       "array([[-0.70710678, -0.        ,  0.        , -0.70710678],\n",
       "       [-0.70710678, -0.        ,  0.        ,  0.70710678],\n",
       "       [-0.        , -0.70710678, -0.70710678,  0.        ],\n",
       "       [-0.        , -0.70710678,  0.70710678,  0.        ]])"
      ]
     },
     "execution_count": 36,
     "metadata": {},
     "output_type": "execute_result"
    }
   ],
   "source": [
    "np.linalg.svd(X)[2].T"
   ]
  },
  {
   "cell_type": "code",
   "execution_count": 23,
   "id": "c9932a9f-969e-4a17-90c9-57e13436f615",
   "metadata": {},
   "outputs": [
    {
     "data": {
      "text/plain": [
       "array([-1.27279221, -1.27279221,  0.        ,  0.        ])"
      ]
     },
     "execution_count": 23,
     "metadata": {},
     "output_type": "execute_result"
    }
   ],
   "source": [
    "U_1"
   ]
  },
  {
   "cell_type": "code",
   "execution_count": 24,
   "id": "0f1e6bec-72fa-464d-8a8e-2fbd7a6bfcd5",
   "metadata": {},
   "outputs": [
    {
     "data": {
      "text/plain": [
       "array([ 0.        ,  0.        , -1.06066017, -1.06066017])"
      ]
     },
     "execution_count": 24,
     "metadata": {},
     "output_type": "execute_result"
    }
   ],
   "source": [
    "U_2"
   ]
  },
  {
   "cell_type": "code",
   "execution_count": 25,
   "id": "475ebdc3-d0a0-4867-a55d-69a77f5c2b4e",
   "metadata": {},
   "outputs": [
    {
     "name": "stdout",
     "output_type": "stream",
     "text": [
      "0.0\n"
     ]
    }
   ],
   "source": [
    "print(U_2 @ U_1)"
   ]
  },
  {
   "cell_type": "markdown",
   "id": "f314cfa4-fa59-4d55-88aa-6d7cead3e163",
   "metadata": {},
   "source": [
    "### Part (2)"
   ]
  },
  {
   "cell_type": "markdown",
   "id": "0f71482e-9ceb-4a21-b3a1-f3d64735591e",
   "metadata": {},
   "source": [
    "Yes, the result seems intuitive because much of the variance appears to be in the first two components of the covariance matrix."
   ]
  },
  {
   "cell_type": "markdown",
   "id": "e83ece8b-4849-4d55-8ecb-9abe418d3814",
   "metadata": {},
   "source": [
    "### Part (3)"
   ]
  },
  {
   "cell_type": "code",
   "execution_count": 26,
   "id": "3fa66251-49ec-4e60-83dd-e189349825c1",
   "metadata": {},
   "outputs": [],
   "source": [
    "v_3 = V[:,2]\n",
    "U_3 = X @ v_3\n",
    "v_4 = V[:,3]\n",
    "U_4 = X @ v_4"
   ]
  },
  {
   "cell_type": "code",
   "execution_count": 27,
   "id": "19e02835-bddf-47ce-b2d5-e63729ce5914",
   "metadata": {},
   "outputs": [
    {
     "name": "stdout",
     "output_type": "stream",
     "text": [
      "-1.1102230246251565e-16\n",
      "0.0\n",
      "0.0\n",
      "0.0\n",
      "0.0\n"
     ]
    }
   ],
   "source": [
    "print(U_3 @ U_2)\n",
    "print(U_3 @ U_1)\n",
    "\n",
    "print(U_4 @ U_3)\n",
    "print(U_4 @ U_2)\n",
    "print(U_4 @ U_1)"
   ]
  },
  {
   "cell_type": "markdown",
   "id": "40308b88-fd4a-44a8-89e9-546bab2c23cd",
   "metadata": {},
   "source": [
    "### Part (4)"
   ]
  },
  {
   "cell_type": "code",
   "execution_count": 39,
   "id": "552e3512-15b3-40c0-b71f-1a78e7aa4d9c",
   "metadata": {},
   "outputs": [],
   "source": [
    "V = np.linalg.eig(X)[1]"
   ]
  },
  {
   "cell_type": "code",
   "execution_count": 40,
   "id": "9cf9da6f-6524-4b58-abad-52f8d2e391b1",
   "metadata": {},
   "outputs": [],
   "source": [
    "U = X @ V"
   ]
  },
  {
   "cell_type": "code",
   "execution_count": 41,
   "id": "8f27681d-136f-4885-a72d-0ded16d0c1e2",
   "metadata": {
    "tags": []
   },
   "outputs": [
    {
     "data": {
      "text/plain": [
       "array([[ 1.27279221, -0.14142136,  0.        ,  0.        ],\n",
       "       [ 1.27279221,  0.14142136,  0.        ,  0.        ],\n",
       "       [ 0.        ,  0.        ,  1.06066017, -0.35355339],\n",
       "       [ 0.        ,  0.        ,  1.06066017,  0.35355339]])"
      ]
     },
     "execution_count": 41,
     "metadata": {},
     "output_type": "execute_result"
    }
   ],
   "source": [
    "U"
   ]
  },
  {
   "cell_type": "code",
   "execution_count": null,
   "id": "b6914f3b-7e3c-4c24-b2c6-c1b166028b77",
   "metadata": {},
   "outputs": [],
   "source": [
    "Z = YX"
   ]
  },
  {
   "cell_type": "code",
   "execution_count": null,
   "id": "431f2aaa-c85d-439a-8d95-c79e52453ec1",
   "metadata": {},
   "outputs": [],
   "source": [
    "AZ = Y U = X V Y "
   ]
  },
  {
   "cell_type": "code",
   "execution_count": null,
   "id": "0d519247-847f-4442-8473-7a32f78555db",
   "metadata": {},
   "outputs": [],
   "source": []
  },
  {
   "cell_type": "markdown",
   "id": "560f4143-891a-4930-ac84-e5b8fa359d1e",
   "metadata": {},
   "source": [
    "## Problem 2"
   ]
  },
  {
   "cell_type": "code",
   "execution_count": 65,
   "id": "1b3af964-6eb6-4ba7-bd53-c9d14a0e723f",
   "metadata": {},
   "outputs": [],
   "source": [
    "from sklearn.linear_model import LinearRegression"
   ]
  },
  {
   "cell_type": "code",
   "execution_count": 101,
   "id": "0114dd12-cfea-4301-afec-792bca94a280",
   "metadata": {},
   "outputs": [],
   "source": [
    "n=200\n",
    "p=50\n",
    "k=5"
   ]
  },
  {
   "cell_type": "code",
   "execution_count": 168,
   "id": "40886290-34f3-4748-b38f-da60539fe0f0",
   "metadata": {},
   "outputs": [],
   "source": [
    "def factor_dgp(k,n=200,p=50):\n",
    "    mu = np.array([np.random.uniform(low=0,high=10,size=k) for _ in np.arange(n)])\n",
    "    f = np.array([np.random.normal(1,2,size=k) for _ in np.arange(p)]).reshape(k,p)\n",
    "    W = mu @ f\n",
    "    D = np.where(W[:,5] > -5,1,0).reshape(200,1)\n",
    "    Z = W + np.array([np.random.normal(0,10,size=p) for _ in np.arange(n)])\n",
    "    Y = (5 * D + W @ (3 * np.ones((50,1))) + np.random.normal(0,250)).flatten()\n",
    "    return Y,D,W,Z\n",
    "\n",
    "def ols(Y,D,W):\n",
    "    X = np.concatenate((D,W),axis=1)\n",
    "    ols = LinearRegression().fit(X,Y)\n",
    "    beta_1 = ols.coef_.flatten()[0]\n",
    "    return beta_1\n",
    "\n",
    "def double_pcr(Y,D,Z):\n",
    "    f = np.linalg.svd(Z)[2].T[:,:k]\n",
    "    mu = (Z @ f)[:,:k]\n",
    "    w_hat = mu @ f.T\n",
    "    ols1 = LinearRegression().fit(np.concatenate((D,w_hat),axis=1),Y)\n",
    "    beta_2 = ols1.coef_.flatten()[1:]\n",
    "    ols2 = LinearRegression().fit(w_hat,D.flatten())\n",
    "    gamma = ols2.coef_.flatten()\n",
    "    \n",
    "    num = (Y - w_hat @ beta_2) * (D.flatten() - w_hat @ gamma)\n",
    "    denom = D.flatten() * (D.flatten() - w_hat @ gamma)\n",
    "    beta_1 = sum(num) / sum(denom)\n",
    "    return beta_1"
   ]
  },
  {
   "cell_type": "code",
   "execution_count": 169,
   "id": "9699ebbc-a592-44c0-90ee-9685fdcda91c",
   "metadata": {},
   "outputs": [
    {
     "data": {
      "text/plain": [
       "370.0748299270723"
      ]
     },
     "execution_count": 169,
     "metadata": {},
     "output_type": "execute_result"
    }
   ],
   "source": [
    "k=5\n",
    "Y,D,W,Z = factor_dgp(k,n=200,p=50)\n",
    "double_pcr(Y,D,Z)"
   ]
  },
  {
   "cell_type": "code",
   "execution_count": null,
   "id": "9b7b5481-673c-47bb-a91d-68fdb6336f66",
   "metadata": {},
   "outputs": [],
   "source": []
  }
 ],
 "metadata": {
  "kernelspec": {
   "display_name": "Python 3 (ipykernel)",
   "language": "python",
   "name": "python3"
  },
  "language_info": {
   "codemirror_mode": {
    "name": "ipython",
    "version": 3
   },
   "file_extension": ".py",
   "mimetype": "text/x-python",
   "name": "python",
   "nbconvert_exporter": "python",
   "pygments_lexer": "ipython3",
   "version": "3.9.13"
  }
 },
 "nbformat": 4,
 "nbformat_minor": 5
}
