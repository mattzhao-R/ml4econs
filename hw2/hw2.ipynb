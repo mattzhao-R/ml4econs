{
 "cells": [
  {
   "cell_type": "code",
   "execution_count": 1,
   "id": "a810d75f-3f0a-4e7b-af53-52ca95c26efe",
   "metadata": {},
   "outputs": [],
   "source": [
    "import pandas as pd\n",
    "import numpy as np\n",
    "import matplotlib.pyplot as plt\n",
    "import time\n",
    "\n",
    "from multiprocessing.pool import ThreadPool"
   ]
  },
  {
   "cell_type": "markdown",
   "id": "f88c1f5f-cd8c-4ac8-b94b-f465ee3d4de9",
   "metadata": {},
   "source": [
    "Note: When doing CV and standardizing, don't include testing data when calculating mean and sd since that causes the testing data to influence the training data. Just take mean and sd of training and standardize both training and testing using those. \n"
   ]
  },
  {
   "cell_type": "code",
   "execution_count": null,
   "id": "c128f49d-b900-41fe-89f5-c1630b66ae53",
   "metadata": {},
   "outputs": [],
   "source": []
  }
 ],
 "metadata": {
  "kernelspec": {
   "display_name": "Python 3 (ipykernel)",
   "language": "python",
   "name": "python3"
  },
  "language_info": {
   "codemirror_mode": {
    "name": "ipython",
    "version": 3
   },
   "file_extension": ".py",
   "mimetype": "text/x-python",
   "name": "python",
   "nbconvert_exporter": "python",
   "pygments_lexer": "ipython3",
   "version": "3.9.13"
  }
 },
 "nbformat": 4,
 "nbformat_minor": 5
}
