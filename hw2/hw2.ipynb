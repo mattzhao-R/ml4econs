{
 "cells": [
  {
   "cell_type": "code",
   "execution_count": 1,
   "id": "a810d75f-3f0a-4e7b-af53-52ca95c26efe",
   "metadata": {},
   "outputs": [],
   "source": [
    "import pandas as pd\n",
    "import numpy as np\n",
    "import matplotlib.pyplot as plt\n",
    "import time\n",
    "\n",
    "from multiprocessing.pool import ThreadPool"
   ]
  },
  {
   "cell_type": "markdown",
   "id": "f88c1f5f-cd8c-4ac8-b94b-f465ee3d4de9",
   "metadata": {},
   "source": [
    "Note: When doing CV and standardizing, don't include testing data when calculating mean and sd since that causes the testing data to influence the training data. Just take mean and sd of training and standardize both training and testing using those. \n"
   ]
  },
  {
   "cell_type": "markdown",
   "id": "c226cf7d-1e98-4dd0-a2f6-c97d4df164d4",
   "metadata": {},
   "source": [
    "# Homework (Lecture 5)\n",
    "\n",
    "## Problem 1"
   ]
  },
  {
   "cell_type": "code",
   "execution_count": 2,
   "id": "c128f49d-b900-41fe-89f5-c1630b66ae53",
   "metadata": {},
   "outputs": [],
   "source": [
    "def load_data():\n",
    "    df = pd.read_csv('boston.csv')\n",
    "    X = df.drop(['ZN','CHAS','MEDV'],axis=1)\n",
    "    Y = np.log10(df['MEDV'])\n",
    "    return X,Y\n",
    "\n",
    "def calc_ahat(X,Y,n,j,betas):\n",
    "    prod = (Y - sum(X.drop(X.columns[j], axis=1) @ np.delete(betas,j)))\n",
    "    a_hat = (1/n) * sum(X.iloc[:,j] * prod)\n",
    "    return a_hat\n",
    "    \n",
    "def calc_betaj(X,Y,n,j,betas,lambda_):\n",
    "    a_hat = calc_ahat(X,Y,n,j,betas)\n",
    "    sign = np.sign(a_hat)\n",
    "    max_right = max(np.abs(a_hat) - (n/2)*lambda_,0)\n",
    "    beta_hat_j = sign * max_right\n",
    "    return beta_hat_j\n",
    "\n",
    "def lasso(X,Y,lambda_,epsilon=1e-6):\n",
    "    n = X.shape[0]\n",
    "    p = X.shape[1]\n",
    "    betas = np.random.normal(size=p)\n",
    "    err = 1\n",
    "    while err > epsilon:\n",
    "        last_beta = betas.copy()\n",
    "        for j in np.arange(p):\n",
    "            betas[j] = calc_betaj(X,Y,n,j,betas,lambda_)\n",
    "        err = np.sum(np.abs(betas-last_beta))\n",
    "    return betas\n",
    "\n",
    "def normalize(df):\n",
    "    return (df - df.mean())/df.std()\n",
    "    \n",
    "def train_test_split(X,Y,folds,i):\n",
    "    temp = folds[:]\n",
    "    testing_idx = temp.pop(i)\n",
    "    training_idx = np.concatenate(temp)\n",
    "    X_train, X_test, Y_train, Y_test = X.iloc[training_idx,:], X.iloc[testing_idx,:], Y.iloc[training_idx,], Y.iloc[testing_idx,]\n",
    "    X_train = normalize(X_train)\n",
    "    X_train['const'] = 1\n",
    "    X_test = normalize(X_test)\n",
    "    X_test['const'] = 1\n",
    "    return X_train, X_test, Y_train, Y_test\n",
    "\n",
    "def sse(predicted,actual):\n",
    "    return sum((predicted - actual) ** 2)\n",
    "\n",
    "def cv(lambda_,k=5):\n",
    "    X,Y = load_data()\n",
    "    n = X.shape[0]\n",
    "    # creating indices for folds\n",
    "    folds = []\n",
    "    remaining_idx = np.arange(n)\n",
    "    for i in np.arange(k):\n",
    "        indices = np.random.choice(remaining_idx,round(n * 1/k), replace=False)\n",
    "        remaining_idx = np.setdiff1d(remaining_idx, indices)\n",
    "        folds.append(indices)\n",
    "        \n",
    "    # calculating total error\n",
    "    total_error = 0\n",
    "    for i,_ in enumerate(folds):\n",
    "        X_train, X_test, Y_train, Y_test = train_test_split(X,Y,folds,i)\n",
    "        betas = lasso(X_train,Y_train,lambda_)\n",
    "        predicted = X_test @ betas\n",
    "        error = sse(predicted,Y_test)\n",
    "        total_error += error\n",
    "    return (betas, lambda_, total_error)"
   ]
  },
  {
   "cell_type": "code",
   "execution_count": 6,
   "id": "0524fb56-712c-407a-98ce-4a31b8c04fce",
   "metadata": {},
   "outputs": [],
   "source": [
    "from multiprocessing import cpu_count\n",
    "max_cpu = cpu_count()"
   ]
  },
  {
   "cell_type": "code",
   "execution_count": 4,
   "id": "154d2947-9092-4586-b980-cc6ff213c757",
   "metadata": {},
   "outputs": [],
   "source": [
    "#%%timeit\n",
    "lambdas = np.linspace(0,1e-3,1000)\n",
    "with ThreadPool(max_cpu - 1) as pool:\n",
    "    output = pool.map(cv,lambdas)"
   ]
  },
  {
   "cell_type": "code",
   "execution_count": 5,
   "id": "2dd34534-d179-4d48-9fe5-297f78522937",
   "metadata": {},
   "outputs": [
    {
     "data": {
      "text/plain": [
       "<matplotlib.collections.PathCollection at 0x230c75a12d0>"
      ]
     },
     "execution_count": 5,
     "metadata": {},
     "output_type": "execute_result"
    },
    {
     "data": {
      "image/png": "[encoded data removed]",
      "text/plain": [
       "<Figure size 800x500 with 1 Axes>"
      ]
     },
     "metadata": {},
     "output_type": "display_data"
    }
   ],
   "source": [
    "betas = []\n",
    "lambdas = []\n",
    "errors = []\n",
    "\n",
    "for b,l,err in output:\n",
    "    betas.append(b)\n",
    "    lambdas.append(l)\n",
    "    errors.append(err)\n",
    "    \n",
    "plt.figure(figsize=[8,5])\n",
    "plt.scatter(x = lambdas, y = errors)"
   ]
  },
  {
   "cell_type": "code",
   "execution_count": 6,
   "id": "8c55e131-7cce-4475-a0a4-b3864a254150",
   "metadata": {},
   "outputs": [],
   "source": [
    "prob_1_results = pd.DataFrame({'Betas':betas,'Lambda':lambdas,'Errors':errors}).sort_values(by='Errors')"
   ]
  },
  {
   "cell_type": "code",
   "execution_count": 7,
   "id": "0665fc2e-4e77-40d7-9524-001badad98b7",
   "metadata": {},
   "outputs": [
    {
     "data": {
      "text/plain": [
       "array([-0.01523316, -0.02089755, -0.01426112,  0.0347634 , -0.00635641,\n",
       "        0.        , -0.01135577, -0.02637887, -0.01591457,  0.        ,\n",
       "       -0.06748538,  1.24229229])"
      ]
     },
     "execution_count": 7,
     "metadata": {},
     "output_type": "execute_result"
    }
   ],
   "source": [
    "prob_1_results['Betas'].values[0]"
   ]
  },
  {
   "cell_type": "code",
   "execution_count": 8,
   "id": "be018294-b729-476c-a511-25b16ea00b1c",
   "metadata": {},
   "outputs": [
    {
     "data": {
      "text/plain": [
       "0.00037237237237237235"
      ]
     },
     "execution_count": 8,
     "metadata": {},
     "output_type": "execute_result"
    }
   ],
   "source": [
    "prob_1_results['Lambda'].values[0]"
   ]
  },
  {
   "cell_type": "code",
   "execution_count": 9,
   "id": "01f6a4f5-ecfc-4e17-ad3f-8f1ae386c93a",
   "metadata": {},
   "outputs": [
    {
     "data": {
      "text/plain": [
       "8.045374308355402"
      ]
     },
     "execution_count": 9,
     "metadata": {},
     "output_type": "execute_result"
    }
   ],
   "source": [
    "prob_1_results['Errors'].values[0]"
   ]
  },
  {
   "cell_type": "markdown",
   "id": "01274cfe-8cb8-4a9d-8335-bee08e65d621",
   "metadata": {},
   "source": [
    "## Problem 2\n",
    "\n",
    "### Part (a)"
   ]
  },
  {
   "cell_type": "code",
   "execution_count": 8,
   "id": "3930035c-43ad-4b0f-9cef-32603f91b920",
   "metadata": {},
   "outputs": [],
   "source": [
    "def DGP(k=5):\n",
    "    '''\n",
    "    Generates sparse data with explanatory variable of interest D, potentially relevant covariates W\n",
    "    and outcome Y.\n",
    "    \n",
    "    Parameter:\n",
    "        k (int): determines number of relevant controls\n",
    "        \n",
    "    Returns D, W, X, and Y where X is just D concatenated with W\n",
    "    '''\n",
    "    W_relevant = np.random.rand(200,k) + 1\n",
    "    W_noise = np.random.rand(200,50-k) * np.random.normal(scale=3,size=50-k)\n",
    "    W = np.concatenate((W_relevant,W_noise),axis=1)\n",
    "    D = np.random.rand(1,200).reshape(-1,1) + (W_relevant @ (np.random.poisson(2.2,size=k) + 1)).reshape(200,1)\n",
    "    Y = (D * 3 + (W_relevant @ np.ones(k)).reshape(200,1)  + np.random.normal(size=200).reshape(200,1)).flatten()\n",
    "    X = np.concatenate((D,W),axis=1)\n",
    "    return D,W,X,Y"
   ]
  },
  {
   "cell_type": "markdown",
   "id": "a0f2fdf0-e689-4e5d-920c-33f3cd36c5f9",
   "metadata": {},
   "source": [
    "### Part (b)"
   ]
  },
  {
   "cell_type": "code",
   "execution_count": 2,
   "id": "c490d66f-cc6b-49f8-a003-00c506c08a9a",
   "metadata": {},
   "outputs": [
    {
     "name": "stdout",
     "output_type": "stream",
     "text": [
      "(CVXPY) Jan 29 01:06:43 AM: Encountered unexpected exception importing solver OSQP:\n",
      "ImportError('DLL load failed while importing qdldl: The specified module could not be found.')\n"
     ]
    }
   ],
   "source": [
    "from sklearn.linear_model import LinearRegression, LassoCV\n",
    "import cvxpy as cp"
   ]
  },
  {
   "cell_type": "code",
   "execution_count": 3,
   "id": "ba96e29c-930b-4d2b-aede-dcdd43712b53",
   "metadata": {},
   "outputs": [],
   "source": [
    "def np_standardize(arr):\n",
    "    return (arr - np.mean(arr,axis=0))/np.std(arr,axis=0)\n",
    "\n",
    "def OLS(X,Y):\n",
    "    ols = LinearRegression().fit(X,Y)\n",
    "    beta_1 = ols.coef_.flatten()[0]\n",
    "    return beta_1\n",
    "\n",
    "def Lasso(X,Y):\n",
    "    X = np_standardize(X)\n",
    "    lasso = LassoCV().fit(X,Y)\n",
    "    beta_1 = lasso.coef_.flatten()[0]\n",
    "    return beta_1\n",
    "\n",
    "def Dantzig(X,Y):\n",
    "    X = np_standardize(X)\n",
    "    n = X.shape[0]\n",
    "    p = X.shape[1]\n",
    "    lambda_ = np.sqrt(2 * np.log(p)) / n\n",
    "    \n",
    "    betas = cp.Variable(p)\n",
    "    objective = cp.Minimize(cp.norm1(betas))\n",
    "    constraints = [cp.abs((1/n) * cp.sum(cp.multiply(X[:,j], (Y - X @ betas)))) <= lambda_ for j in range(p)]\n",
    "    prob = cp.Problem(objective, constraints)\n",
    "    prob.solve()\n",
    "    return betas.value[0]\n",
    "\n",
    "def Post(X,Y):\n",
    "    # variable selection\n",
    "    X_standard = np_standardize(X)\n",
    "    lasso = LassoCV()\n",
    "    lasso.fit(X_standard,Y)\n",
    "    var_select = [i for i, coef in enumerate(lasso.coef_.flatten()) if coef != 0]\n",
    "    X_select = X[:,var_select]\n",
    "    \n",
    "    # OLS\n",
    "    beta1 = OLS(X_select,Y)\n",
    "    return beta1\n",
    "\n",
    "def Double(D,W,X,Y):\n",
    "    X_standard = np_standardize(X)\n",
    "    W_standard = np_standardize(W)\n",
    "    # obtain gamma\n",
    "    lasso1 = LassoCV().fit(W_standard,D.flatten())\n",
    "    gamma = lasso1.coef_\n",
    "    \n",
    "    # beta1, beta2\n",
    "    lasso2 = LassoCV().fit(X_standard,Y)\n",
    "    beta_1 = lasso2.coef_.flatten()[0]\n",
    "    beta_2 = lasso2.coef_.flatten()[1:]\n",
    "    \n",
    "    # estimation\n",
    "    n = X.shape[0]\n",
    "    num = (1/n) * (np.sum((Y - W @ beta_2) * (D.flatten() - W @ gamma)))\n",
    "    denom = (1/n) * (np.sum(D.flatten() * (D.flatten() - W @ gamma)))\n",
    "    beta_DL = num / denom\n",
    "    return beta_DL"
   ]
  },
  {
   "cell_type": "markdown",
   "id": "72e99c29-8887-462a-b682-bf680e7ce655",
   "metadata": {},
   "source": [
    "### Part (c)"
   ]
  },
  {
   "cell_type": "code",
   "execution_count": 4,
   "id": "5a895d8c-e05e-42ac-b855-43b86e63451f",
   "metadata": {},
   "outputs": [],
   "source": [
    "def get_betas(D,W,X,Y):\n",
    "    beta_ols = OLS(X,Y)\n",
    "    beta_lasso = Lasso(X,Y)\n",
    "    beta_dantzig = Dantzig(X,Y)\n",
    "    beta_post = Post(X,Y)\n",
    "    beta_double = Double(D,W,X,Y)\n",
    "    return beta_ols, beta_lasso, beta_dantzig, beta_post, beta_double\n",
    "\n",
    "def sim(i):\n",
    "    D,W,X,Y = DGP()\n",
    "    betas = get_betas(D,W,X,Y)\n",
    "    return betas"
   ]
  },
  {
   "cell_type": "code",
   "execution_count": 9,
   "id": "da6cc114-4551-412c-bcd0-718ae47dd54e",
   "metadata": {
    "tags": []
   },
   "outputs": [],
   "source": [
    "with ThreadPool(max_cpu - 1) as pool:\n",
    "    output = pool.map(sim,np.arange(200))"
   ]
  },
  {
   "cell_type": "code",
   "execution_count": 10,
   "id": "c20394ed-a608-4e16-8da7-d8b42e25c7c9",
   "metadata": {},
   "outputs": [],
   "source": [
    "prob2_results = pd.DataFrame(np.array(output),columns = ['OLS', 'Lasso', 'Dantzig','Post-Lasso','Double-Lasso'])"
   ]
  },
  {
   "cell_type": "code",
   "execution_count": 11,
   "id": "192aec42-57d2-49e7-910d-a2839d8cd92d",
   "metadata": {},
   "outputs": [
    {
     "data": {
      "image/png": "[encoded data removed]",
      "text/plain": [
       "<Figure size 1250x1250 with 5 Axes>"
      ]
     },
     "metadata": {},
     "output_type": "display_data"
    }
   ],
   "source": [
    "fig, ax = plt.subplots(nrows=prob2_results.shape[1])\n",
    "fig.set_size_inches((10,10))\n",
    "fig.set_dpi(125)\n",
    "fig.tight_layout()\n",
    "for i,name in enumerate(prob2_results.columns):\n",
    "    ax[i].hist(prob2_results[name]-3,bins=35)\n",
    "    ax[i].axvline(color='red')\n",
    "    ax[i].set_title(name)"
   ]
  },
  {
   "cell_type": "markdown",
   "id": "ea4f0b36-613d-4ae0-9433-d418e0b3fc9b",
   "metadata": {},
   "source": [
    "# Homework (Lecture 6)\n",
    "\n",
    "## Problem 1\n",
    "\n",
    "### Part (1)"
   ]
  },
  {
   "cell_type": "code",
   "execution_count": null,
   "id": "c6d83606-84b6-4a72-93d3-29d237fde096",
   "metadata": {},
   "outputs": [],
   "source": [
    "X = np.array(([1,0.8,0,0],[0.8,1,0,0],[0,0,1,0.5],[0,0,0.5,1]))\n",
    "print(np.linalg.eig(X))\n",
    "V = np.linalg.svd(X)[2].T\n",
    "v_1 = V[:,0]\n",
    "U_1 = X @ v_1\n",
    "v_2 = V[:,1]\n",
    "U_2 = X @ v_2"
   ]
  },
  {
   "cell_type": "code",
   "execution_count": null,
   "id": "53203448-c480-4c94-be8a-07cc015f5780",
   "metadata": {},
   "outputs": [],
   "source": [
    "np.linalg.eig(X)[1].T"
   ]
  },
  {
   "cell_type": "code",
   "execution_count": null,
   "id": "84661bf7-b536-481a-9f40-b08cffd5395e",
   "metadata": {},
   "outputs": [],
   "source": [
    "np.linalg.svd(X)[2].T"
   ]
  },
  {
   "cell_type": "code",
   "execution_count": null,
   "id": "c9932a9f-969e-4a17-90c9-57e13436f615",
   "metadata": {},
   "outputs": [],
   "source": [
    "U_1"
   ]
  },
  {
   "cell_type": "code",
   "execution_count": null,
   "id": "0f1e6bec-72fa-464d-8a8e-2fbd7a6bfcd5",
   "metadata": {},
   "outputs": [],
   "source": [
    "U_2"
   ]
  },
  {
   "cell_type": "code",
   "execution_count": null,
   "id": "475ebdc3-d0a0-4867-a55d-69a77f5c2b4e",
   "metadata": {},
   "outputs": [],
   "source": [
    "print(U_2 @ U_1)"
   ]
  },
  {
   "cell_type": "markdown",
   "id": "f314cfa4-fa59-4d55-88aa-6d7cead3e163",
   "metadata": {},
   "source": [
    "### Part (2)"
   ]
  },
  {
   "cell_type": "markdown",
   "id": "0f71482e-9ceb-4a21-b3a1-f3d64735591e",
   "metadata": {},
   "source": [
    "Yes, the result seems intuitive because much of the variance appears to be in the first two components of the covariance matrix."
   ]
  },
  {
   "cell_type": "markdown",
   "id": "e83ece8b-4849-4d55-8ecb-9abe418d3814",
   "metadata": {},
   "source": [
    "### Part (3)"
   ]
  },
  {
   "cell_type": "code",
   "execution_count": null,
   "id": "3fa66251-49ec-4e60-83dd-e189349825c1",
   "metadata": {},
   "outputs": [],
   "source": [
    "v_3 = V[:,2]\n",
    "U_3 = X @ v_3\n",
    "v_4 = V[:,3]\n",
    "U_4 = X @ v_4"
   ]
  },
  {
   "cell_type": "code",
   "execution_count": null,
   "id": "19e02835-bddf-47ce-b2d5-e63729ce5914",
   "metadata": {},
   "outputs": [],
   "source": [
    "print(U_3 @ U_2)\n",
    "print(U_3 @ U_1)\n",
    "\n",
    "print(U_4 @ U_3)\n",
    "print(U_4 @ U_2)\n",
    "print(U_4 @ U_1)"
   ]
  },
  {
   "cell_type": "markdown",
   "id": "40308b88-fd4a-44a8-89e9-546bab2c23cd",
   "metadata": {},
   "source": [
    "### Part (4)"
   ]
  },
  {
   "cell_type": "code",
   "execution_count": null,
   "id": "552e3512-15b3-40c0-b71f-1a78e7aa4d9c",
   "metadata": {},
   "outputs": [],
   "source": [
    "V = np.linalg.eig(X)[1]"
   ]
  },
  {
   "cell_type": "code",
   "execution_count": null,
   "id": "9cf9da6f-6524-4b58-abad-52f8d2e391b1",
   "metadata": {},
   "outputs": [],
   "source": [
    "U = X @ V"
   ]
  },
  {
   "cell_type": "code",
   "execution_count": null,
   "id": "8f27681d-136f-4885-a72d-0ded16d0c1e2",
   "metadata": {
    "tags": []
   },
   "outputs": [],
   "source": [
    "U"
   ]
  },
  {
   "cell_type": "code",
   "execution_count": null,
   "id": "b6914f3b-7e3c-4c24-b2c6-c1b166028b77",
   "metadata": {},
   "outputs": [],
   "source": [
    "Z = YX"
   ]
  },
  {
   "cell_type": "code",
   "execution_count": null,
   "id": "431f2aaa-c85d-439a-8d95-c79e52453ec1",
   "metadata": {},
   "outputs": [],
   "source": [
    "AZ = Y U = X V Y "
   ]
  },
  {
   "cell_type": "code",
   "execution_count": null,
   "id": "0d519247-847f-4442-8473-7a32f78555db",
   "metadata": {},
   "outputs": [],
   "source": []
  },
  {
   "cell_type": "markdown",
   "id": "560f4143-891a-4930-ac84-e5b8fa359d1e",
   "metadata": {},
   "source": [
    "## Problem 2"
   ]
  },
  {
   "cell_type": "code",
   "execution_count": null,
   "id": "1b3af964-6eb6-4ba7-bd53-c9d14a0e723f",
   "metadata": {},
   "outputs": [],
   "source": [
    "from sklearn.linear_model import LinearRegression"
   ]
  },
  {
   "cell_type": "code",
   "execution_count": null,
   "id": "40886290-34f3-4748-b38f-da60539fe0f0",
   "metadata": {},
   "outputs": [],
   "source": [
    "def factor_dgp(k,n=200,p=50):\n",
    "    mu = np.array([np.random.uniform(low=0,high=1,size=k) for _ in np.arange(n)])\n",
    "    f = np.array([np.random.normal(0,1,size=k) for _ in np.arange(p)]).reshape(k,p)\n",
    "    W = mu @ f\n",
    "    D = np.where(W[:,1] > 0,1,0).reshape(200,1) + 1\n",
    "    Z = W + np.array([np.random.normal(0,10,size=p) for _ in np.arange(n)])\n",
    "    Y = (5 * D + W @ (1 * np.ones((50,1))) + np.random.normal(0,10)).flatten()\n",
    "    return Y,D,W,Z\n",
    "\n",
    "def ols(Y,D,Z):\n",
    "    X = np.concatenate((D,Z),axis=1)\n",
    "    ols = LinearRegression().fit(X,Y)\n",
    "    beta_1 = ols.coef_.flatten()[0]\n",
    "    return beta_1\n",
    "\n",
    "def double_pcr(k,Y,D,Z):\n",
    "    # getting W_hat\n",
    "    U, d, V = np.linalg.svd(Z)\n",
    "    zrow, zcol = Z.shape\n",
    "    diag = np.zeros((zrow, zcol), int)\n",
    "    np.fill_diagonal(diag,d)\n",
    "    w_hat = U[:,:k] @ diag[:k,:k] @ V[:,:k].T\n",
    "    w_hat_k = w_hat[:,:k]\n",
    "    \n",
    "    # getting beta_2\n",
    "    ols1 = LinearRegression().fit(np.concatenate((D,w_hat_k),axis=1),Y)\n",
    "    beta_2 = ols1.coef_.flatten()[1:]\n",
    "    \n",
    "    # getting gamma\n",
    "    ols2 = LinearRegression().fit(w_hat_k,D.flatten())\n",
    "    gamma = ols2.coef_.flatten()\n",
    "    \n",
    "    num = (Y - w_hat_k @ beta_2) * (D.flatten() - w_hat_k @ gamma)\n",
    "    denom = D.flatten() * (D.flatten() - w_hat_k @ gamma)\n",
    "    beta_1 = sum(num) / sum(denom)\n",
    "    return beta_1"
   ]
  },
  {
   "cell_type": "code",
   "execution_count": null,
   "id": "ede72724-4c04-4b63-9a94-ec8b15289dfd",
   "metadata": {},
   "outputs": [],
   "source": [
    "def pcr_sim(i):\n",
    "    ols = []\n",
    "    dpcr = []\n",
    "    for k_guess in [9,10,11]:\n",
    "        Y,D,W,Z = factor_dgp(k=10)\n",
    "        beta_ols = ols(Y=Y,D=D,Z=Z)\n",
    "        beta_dpcr = double_pcr(k=k_guess,Y=Y,D=D,Z=Z)\n",
    "        ols.append(beta_ols)\n",
    "        dpcr.append(beta_dpcr)\n",
    "    return ols, dpcr"
   ]
  },
  {
   "cell_type": "code",
   "execution_count": null,
   "id": "dcbcbcfb-d504-48c3-ae79-b888bc0c602e",
   "metadata": {},
   "outputs": [],
   "source": [
    "with ThreadPool(max_cpu - 1) as pool:\n",
    "    output_pcr = pool.map(pcr_sim,np.arange(200))"
   ]
  },
  {
   "cell_type": "code",
   "execution_count": null,
   "id": "75dd16d8-61c2-4a2c-a6a3-c0ccd105ac25",
   "metadata": {},
   "outputs": [],
   "source": [
    "pcr_results = pd.DataFrame(np.array(output_pcr),columns = ['OLS', 'Double-PCR'])\n",
    "fig, ax = plt.subplots(nrows=pcr_results.shape[1])\n",
    "fig.set_size_inches((5,4))\n",
    "fig.set_dpi(125)\n",
    "fig.tight_layout()\n",
    "for i,name in enumerate(pcr_results.columns):\n",
    "    ax[i].hist(pcr_results[name]-5,bins=30)\n",
    "    ax[i].axvline(color='red')\n",
    "    ax[i].set_title(name)"
   ]
  },
  {
   "cell_type": "code",
   "execution_count": null,
   "id": "66f4f5ab-1ee6-4d77-9de1-66d4216e687e",
   "metadata": {},
   "outputs": [],
   "source": []
  }
 ],
 "metadata": {
  "kernelspec": {
   "display_name": "class",
   "language": "python",
   "name": "class"
  },
  "language_info": {
   "codemirror_mode": {
    "name": "ipython",
    "version": 3
   },
   "file_extension": ".py",
   "mimetype": "text/x-python",
   "name": "python",
   "nbconvert_exporter": "python",
   "pygments_lexer": "ipython3",
   "version": "3.10.9"
  }
 },
 "nbformat": 4,
 "nbformat_minor": 5
}
