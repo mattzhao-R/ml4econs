{
 "cells": [
  {
   "cell_type": "code",
   "execution_count": 1,
   "id": "a810d75f-3f0a-4e7b-af53-52ca95c26efe",
   "metadata": {},
   "outputs": [],
   "source": [
    "import pandas as pd\n",
    "import numpy as np\n",
    "import matplotlib.pyplot as plt\n",
    "import time\n",
    "\n",
    "from multiprocessing.pool import ThreadPool"
   ]
  },
  {
   "cell_type": "markdown",
   "id": "f88c1f5f-cd8c-4ac8-b94b-f465ee3d4de9",
   "metadata": {},
   "source": [
    "Note: When doing CV and standardizing, don't include testing data when calculating mean and sd since that causes the testing data to influence the training data. Just take mean and sd of training and standardize both training and testing using those. \n"
   ]
  },
  {
   "cell_type": "markdown",
   "id": "c226cf7d-1e98-4dd0-a2f6-c97d4df164d4",
   "metadata": {},
   "source": [
    "## 2.1 Homework\n",
    "\n",
    "### Problem 1"
   ]
  },
  {
   "cell_type": "code",
   "execution_count": 2,
   "id": "c128f49d-b900-41fe-89f5-c1630b66ae53",
   "metadata": {},
   "outputs": [],
   "source": [
    "def load_data():\n",
    "    df = pd.read_csv('boston.csv')\n",
    "    X = df.drop(['ZN','CHAS','MEDV'],axis=1)\n",
    "    Y = np.log10(df['MEDV'])\n",
    "    return X,Y\n",
    "\n",
    "def calc_ahat(X,Y,n,j,betas):\n",
    "    prod = (Y - sum(X.drop(X.columns[j], axis=1) @ np.delete(betas,j)))\n",
    "    a_hat = (1/n) * sum(X.iloc[:,j] * prod)\n",
    "    return a_hat\n",
    "    \n",
    "def calc_betaj(X,Y,n,j,betas,lambda_):\n",
    "    a_hat = calc_ahat(X,Y,n,j,betas)\n",
    "    sign = np.sign(a_hat)\n",
    "    max_right = max(np.abs(a_hat) - (n/2)*lambda_,0)\n",
    "    beta_hat_j = sign * max_right\n",
    "    return beta_hat_j\n",
    "\n",
    "def lasso(X,Y,lambda_,epsilon=1e-6):\n",
    "    n = X.shape[0]\n",
    "    p = X.shape[1]\n",
    "    betas = np.random.normal(size=p)\n",
    "    err = 1\n",
    "    while err > epsilon:\n",
    "        last_beta = betas.copy()\n",
    "        for j in np.arange(p):\n",
    "            betas[j] = calc_betaj(X,Y,n,j,betas,lambda_)\n",
    "        err = np.sum(np.abs(betas-last_beta))\n",
    "    return betas\n",
    "\n",
    "def normalize(df):\n",
    "    return (df - df.mean())/df.std()\n",
    "    \n",
    "def train_test_split(X,Y,folds,i):\n",
    "    temp = folds[:]\n",
    "    testing_idx = temp.pop(i)\n",
    "    training_idx = np.concatenate(temp)\n",
    "    X_train, X_test, Y_train, Y_test = X.iloc[training_idx,:], X.iloc[testing_idx,:], Y.iloc[training_idx,], Y.iloc[testing_idx,]\n",
    "    X_train = normalize(X_train)\n",
    "    X_train['const'] = 1\n",
    "    X_test = normalize(X_test)\n",
    "    X_test['const'] = 1\n",
    "    return X_train, X_test, Y_train, Y_test\n",
    "\n",
    "def sse(predicted,actual):\n",
    "    return sum((predicted - actual) ** 2)\n",
    "\n",
    "def cv(lambda_,k=5):\n",
    "    X,Y = load_data()\n",
    "    n = X.shape[0]\n",
    "    # creating indices for folds\n",
    "    folds = []\n",
    "    remaining_idx = np.arange(n)\n",
    "    for i in np.arange(k):\n",
    "        indices = np.random.choice(remaining_idx,round(n * 1/k), replace=False)\n",
    "        remaining_idx = np.setdiff1d(remaining_idx, indices)\n",
    "        folds.append(indices)\n",
    "        \n",
    "    # calculating total error\n",
    "    total_error = 0\n",
    "    for i,_ in enumerate(folds):\n",
    "        X_train, X_test, Y_train, Y_test = train_test_split(X,Y,folds,i)\n",
    "        betas = lasso(X_train,Y_train,lambda_)\n",
    "        predicted = X_test @ betas\n",
    "        error = sse(predicted,Y_test)\n",
    "        total_error += error\n",
    "    return (betas, lambda_, total_error)"
   ]
  },
  {
   "cell_type": "code",
   "execution_count": 24,
   "id": "154d2947-9092-4586-b980-cc6ff213c757",
   "metadata": {},
   "outputs": [],
   "source": [
    "#%%timeit\n",
    "\n",
    "lambdas = np.linspace(0,1e-3,1000)\n",
    "with ThreadPool(3) as pool:\n",
    "    output = pool.map(cv,lambdas)"
   ]
  },
  {
   "cell_type": "code",
   "execution_count": 28,
   "id": "2dd34534-d179-4d48-9fe5-297f78522937",
   "metadata": {},
   "outputs": [
    {
     "data": {
      "text/plain": [
       "<matplotlib.collections.PathCollection at 0x7fc445d55a60>"
      ]
     },
     "execution_count": 28,
     "metadata": {},
     "output_type": "execute_result"
    },
    {
     "data": {
      "image/png": "[encoded data removed]",
      "text/plain": [
       "<Figure size 800x500 with 1 Axes>"
      ]
     },
     "metadata": {},
     "output_type": "display_data"
    }
   ],
   "source": [
    "betas = []\n",
    "lambdas = []\n",
    "errors = []\n",
    "\n",
    "for b,l,err in output:\n",
    "    betas.append(b)\n",
    "    lambdas.append(l)\n",
    "    errors.append(err)\n",
    "    \n",
    "plt.figure(figsize=[8,5])\n",
    "plt.scatter(x = lambdas, y = errors)"
   ]
  },
  {
   "cell_type": "code",
   "execution_count": 35,
   "id": "8c55e131-7cce-4475-a0a4-b3864a254150",
   "metadata": {},
   "outputs": [],
   "source": [
    "prob_1_results = pd.DataFrame({'Betas':betas,'Lambda':lambdas,'Errors':errors}).sort_values(by='Errors')"
   ]
  },
  {
   "cell_type": "code",
   "execution_count": 42,
   "id": "0665fc2e-4e77-40d7-9524-001badad98b7",
   "metadata": {},
   "outputs": [
    {
     "data": {
      "text/plain": [
       "array([-0.01845892, -0.01704675, -0.01384464,  0.03383996, -0.00222605,\n",
       "        0.        , -0.00651573, -0.02063073, -0.00779799,  0.        ,\n",
       "       -0.06637625,  1.23639329])"
      ]
     },
     "execution_count": 42,
     "metadata": {},
     "output_type": "execute_result"
    }
   ],
   "source": [
    "prob_1_results['Betas'].values[0]"
   ]
  },
  {
   "cell_type": "code",
   "execution_count": 43,
   "id": "be018294-b729-476c-a511-25b16ea00b1c",
   "metadata": {},
   "outputs": [
    {
     "data": {
      "text/plain": [
       "0.00039139139139139135"
      ]
     },
     "execution_count": 43,
     "metadata": {},
     "output_type": "execute_result"
    }
   ],
   "source": [
    "prob_1_results['Lambda'].values[0]"
   ]
  },
  {
   "cell_type": "code",
   "execution_count": 44,
   "id": "01f6a4f5-ecfc-4e17-ad3f-8f1ae386c93a",
   "metadata": {},
   "outputs": [
    {
     "data": {
      "text/plain": [
       "8.130190897447271"
      ]
     },
     "execution_count": 44,
     "metadata": {},
     "output_type": "execute_result"
    }
   ],
   "source": [
    "prob_1_results['Errors'].values[0]"
   ]
  },
  {
   "cell_type": "code",
   "execution_count": null,
   "id": "03f3ee80-084b-4538-9404-e707716d8ad9",
   "metadata": {},
   "outputs": [],
   "source": []
  },
  {
   "cell_type": "code",
   "execution_count": 111,
   "id": "a4f4eaf0-2a8a-4c47-aaba-02db84ceb682",
   "metadata": {},
   "outputs": [],
   "source": [
    "X,Y = load_data()"
   ]
  },
  {
   "cell_type": "code",
   "execution_count": 113,
   "id": "fc0eada3-b26f-46b7-88e4-adbf0f85fcca",
   "metadata": {},
   "outputs": [
    {
     "data": {
      "text/html": [
       "<div>\n",
       "<style scoped>\n",
       "    .dataframe tbody tr th:only-of-type {\n",
       "        vertical-align: middle;\n",
       "    }\n",
       "\n",
       "    .dataframe tbody tr th {\n",
       "        vertical-align: top;\n",
       "    }\n",
       "\n",
       "    .dataframe thead th {\n",
       "        text-align: right;\n",
       "    }\n",
       "</style>\n",
       "<table border=\"1\" class=\"dataframe\">\n",
       "  <thead>\n",
       "    <tr style=\"text-align: right;\">\n",
       "      <th></th>\n",
       "      <th>CRIM</th>\n",
       "      <th>INDUS</th>\n",
       "      <th>NOX</th>\n",
       "      <th>RM</th>\n",
       "      <th>AGE</th>\n",
       "      <th>DIS</th>\n",
       "      <th>RAD</th>\n",
       "      <th>TAX</th>\n",
       "      <th>PTRATIO</th>\n",
       "      <th>B</th>\n",
       "      <th>LSTAT</th>\n",
       "    </tr>\n",
       "  </thead>\n",
       "  <tbody>\n",
       "    <tr>\n",
       "      <th>0</th>\n",
       "      <td>0.00632</td>\n",
       "      <td>2.31</td>\n",
       "      <td>0.538</td>\n",
       "      <td>6.575</td>\n",
       "      <td>65.2</td>\n",
       "      <td>4.0900</td>\n",
       "      <td>1</td>\n",
       "      <td>296</td>\n",
       "      <td>15.3</td>\n",
       "      <td>396.90</td>\n",
       "      <td>4.98</td>\n",
       "    </tr>\n",
       "    <tr>\n",
       "      <th>1</th>\n",
       "      <td>0.02731</td>\n",
       "      <td>7.07</td>\n",
       "      <td>0.469</td>\n",
       "      <td>6.421</td>\n",
       "      <td>78.9</td>\n",
       "      <td>4.9671</td>\n",
       "      <td>2</td>\n",
       "      <td>242</td>\n",
       "      <td>17.8</td>\n",
       "      <td>396.90</td>\n",
       "      <td>9.14</td>\n",
       "    </tr>\n",
       "    <tr>\n",
       "      <th>2</th>\n",
       "      <td>0.02729</td>\n",
       "      <td>7.07</td>\n",
       "      <td>0.469</td>\n",
       "      <td>7.185</td>\n",
       "      <td>61.1</td>\n",
       "      <td>4.9671</td>\n",
       "      <td>2</td>\n",
       "      <td>242</td>\n",
       "      <td>17.8</td>\n",
       "      <td>392.83</td>\n",
       "      <td>4.03</td>\n",
       "    </tr>\n",
       "    <tr>\n",
       "      <th>3</th>\n",
       "      <td>0.03237</td>\n",
       "      <td>2.18</td>\n",
       "      <td>0.458</td>\n",
       "      <td>6.998</td>\n",
       "      <td>45.8</td>\n",
       "      <td>6.0622</td>\n",
       "      <td>3</td>\n",
       "      <td>222</td>\n",
       "      <td>18.7</td>\n",
       "      <td>394.63</td>\n",
       "      <td>2.94</td>\n",
       "    </tr>\n",
       "    <tr>\n",
       "      <th>4</th>\n",
       "      <td>0.06905</td>\n",
       "      <td>2.18</td>\n",
       "      <td>0.458</td>\n",
       "      <td>7.147</td>\n",
       "      <td>54.2</td>\n",
       "      <td>6.0622</td>\n",
       "      <td>3</td>\n",
       "      <td>222</td>\n",
       "      <td>18.7</td>\n",
       "      <td>396.90</td>\n",
       "      <td>5.33</td>\n",
       "    </tr>\n",
       "    <tr>\n",
       "      <th>...</th>\n",
       "      <td>...</td>\n",
       "      <td>...</td>\n",
       "      <td>...</td>\n",
       "      <td>...</td>\n",
       "      <td>...</td>\n",
       "      <td>...</td>\n",
       "      <td>...</td>\n",
       "      <td>...</td>\n",
       "      <td>...</td>\n",
       "      <td>...</td>\n",
       "      <td>...</td>\n",
       "    </tr>\n",
       "    <tr>\n",
       "      <th>501</th>\n",
       "      <td>0.06263</td>\n",
       "      <td>11.93</td>\n",
       "      <td>0.573</td>\n",
       "      <td>6.593</td>\n",
       "      <td>69.1</td>\n",
       "      <td>2.4786</td>\n",
       "      <td>1</td>\n",
       "      <td>273</td>\n",
       "      <td>21.0</td>\n",
       "      <td>391.99</td>\n",
       "      <td>9.67</td>\n",
       "    </tr>\n",
       "    <tr>\n",
       "      <th>502</th>\n",
       "      <td>0.04527</td>\n",
       "      <td>11.93</td>\n",
       "      <td>0.573</td>\n",
       "      <td>6.120</td>\n",
       "      <td>76.7</td>\n",
       "      <td>2.2875</td>\n",
       "      <td>1</td>\n",
       "      <td>273</td>\n",
       "      <td>21.0</td>\n",
       "      <td>396.90</td>\n",
       "      <td>9.08</td>\n",
       "    </tr>\n",
       "    <tr>\n",
       "      <th>503</th>\n",
       "      <td>0.06076</td>\n",
       "      <td>11.93</td>\n",
       "      <td>0.573</td>\n",
       "      <td>6.976</td>\n",
       "      <td>91.0</td>\n",
       "      <td>2.1675</td>\n",
       "      <td>1</td>\n",
       "      <td>273</td>\n",
       "      <td>21.0</td>\n",
       "      <td>396.90</td>\n",
       "      <td>5.64</td>\n",
       "    </tr>\n",
       "    <tr>\n",
       "      <th>504</th>\n",
       "      <td>0.10959</td>\n",
       "      <td>11.93</td>\n",
       "      <td>0.573</td>\n",
       "      <td>6.794</td>\n",
       "      <td>89.3</td>\n",
       "      <td>2.3889</td>\n",
       "      <td>1</td>\n",
       "      <td>273</td>\n",
       "      <td>21.0</td>\n",
       "      <td>393.45</td>\n",
       "      <td>6.48</td>\n",
       "    </tr>\n",
       "    <tr>\n",
       "      <th>505</th>\n",
       "      <td>0.04741</td>\n",
       "      <td>11.93</td>\n",
       "      <td>0.573</td>\n",
       "      <td>6.030</td>\n",
       "      <td>80.8</td>\n",
       "      <td>2.5050</td>\n",
       "      <td>1</td>\n",
       "      <td>273</td>\n",
       "      <td>21.0</td>\n",
       "      <td>396.90</td>\n",
       "      <td>7.88</td>\n",
       "    </tr>\n",
       "  </tbody>\n",
       "</table>\n",
       "<p>506 rows × 11 columns</p>\n",
       "</div>"
      ],
      "text/plain": [
       "        CRIM  INDUS    NOX     RM   AGE     DIS  RAD  TAX  PTRATIO       B  \\\n",
       "0    0.00632   2.31  0.538  6.575  65.2  4.0900    1  296     15.3  396.90   \n",
       "1    0.02731   7.07  0.469  6.421  78.9  4.9671    2  242     17.8  396.90   \n",
       "2    0.02729   7.07  0.469  7.185  61.1  4.9671    2  242     17.8  392.83   \n",
       "3    0.03237   2.18  0.458  6.998  45.8  6.0622    3  222     18.7  394.63   \n",
       "4    0.06905   2.18  0.458  7.147  54.2  6.0622    3  222     18.7  396.90   \n",
       "..       ...    ...    ...    ...   ...     ...  ...  ...      ...     ...   \n",
       "501  0.06263  11.93  0.573  6.593  69.1  2.4786    1  273     21.0  391.99   \n",
       "502  0.04527  11.93  0.573  6.120  76.7  2.2875    1  273     21.0  396.90   \n",
       "503  0.06076  11.93  0.573  6.976  91.0  2.1675    1  273     21.0  396.90   \n",
       "504  0.10959  11.93  0.573  6.794  89.3  2.3889    1  273     21.0  393.45   \n",
       "505  0.04741  11.93  0.573  6.030  80.8  2.5050    1  273     21.0  396.90   \n",
       "\n",
       "     LSTAT  \n",
       "0     4.98  \n",
       "1     9.14  \n",
       "2     4.03  \n",
       "3     2.94  \n",
       "4     5.33  \n",
       "..     ...  \n",
       "501   9.67  \n",
       "502   9.08  \n",
       "503   5.64  \n",
       "504   6.48  \n",
       "505   7.88  \n",
       "\n",
       "[506 rows x 11 columns]"
      ]
     },
     "execution_count": 113,
     "metadata": {},
     "output_type": "execute_result"
    }
   ],
   "source": [
    "X"
   ]
  },
  {
   "cell_type": "code",
   "execution_count": 112,
   "id": "9d5340f7-5c9c-4958-a96b-df09069a09d4",
   "metadata": {},
   "outputs": [
    {
     "data": {
      "text/html": [
       "<div>\n",
       "<style scoped>\n",
       "    .dataframe tbody tr th:only-of-type {\n",
       "        vertical-align: middle;\n",
       "    }\n",
       "\n",
       "    .dataframe tbody tr th {\n",
       "        vertical-align: top;\n",
       "    }\n",
       "\n",
       "    .dataframe thead th {\n",
       "        text-align: right;\n",
       "    }\n",
       "</style>\n",
       "<table border=\"1\" class=\"dataframe\">\n",
       "  <thead>\n",
       "    <tr style=\"text-align: right;\">\n",
       "      <th></th>\n",
       "      <th>INDUS</th>\n",
       "      <th>RM</th>\n",
       "      <th>AGE</th>\n",
       "    </tr>\n",
       "  </thead>\n",
       "  <tbody>\n",
       "    <tr>\n",
       "      <th>0</th>\n",
       "      <td>2.31</td>\n",
       "      <td>6.575</td>\n",
       "      <td>65.2</td>\n",
       "    </tr>\n",
       "    <tr>\n",
       "      <th>1</th>\n",
       "      <td>7.07</td>\n",
       "      <td>6.421</td>\n",
       "      <td>78.9</td>\n",
       "    </tr>\n",
       "    <tr>\n",
       "      <th>2</th>\n",
       "      <td>7.07</td>\n",
       "      <td>7.185</td>\n",
       "      <td>61.1</td>\n",
       "    </tr>\n",
       "    <tr>\n",
       "      <th>3</th>\n",
       "      <td>2.18</td>\n",
       "      <td>6.998</td>\n",
       "      <td>45.8</td>\n",
       "    </tr>\n",
       "    <tr>\n",
       "      <th>4</th>\n",
       "      <td>2.18</td>\n",
       "      <td>7.147</td>\n",
       "      <td>54.2</td>\n",
       "    </tr>\n",
       "    <tr>\n",
       "      <th>...</th>\n",
       "      <td>...</td>\n",
       "      <td>...</td>\n",
       "      <td>...</td>\n",
       "    </tr>\n",
       "    <tr>\n",
       "      <th>501</th>\n",
       "      <td>11.93</td>\n",
       "      <td>6.593</td>\n",
       "      <td>69.1</td>\n",
       "    </tr>\n",
       "    <tr>\n",
       "      <th>502</th>\n",
       "      <td>11.93</td>\n",
       "      <td>6.120</td>\n",
       "      <td>76.7</td>\n",
       "    </tr>\n",
       "    <tr>\n",
       "      <th>503</th>\n",
       "      <td>11.93</td>\n",
       "      <td>6.976</td>\n",
       "      <td>91.0</td>\n",
       "    </tr>\n",
       "    <tr>\n",
       "      <th>504</th>\n",
       "      <td>11.93</td>\n",
       "      <td>6.794</td>\n",
       "      <td>89.3</td>\n",
       "    </tr>\n",
       "    <tr>\n",
       "      <th>505</th>\n",
       "      <td>11.93</td>\n",
       "      <td>6.030</td>\n",
       "      <td>80.8</td>\n",
       "    </tr>\n",
       "  </tbody>\n",
       "</table>\n",
       "<p>506 rows × 3 columns</p>\n",
       "</div>"
      ],
      "text/plain": [
       "     INDUS     RM   AGE\n",
       "0     2.31  6.575  65.2\n",
       "1     7.07  6.421  78.9\n",
       "2     7.07  7.185  61.1\n",
       "3     2.18  6.998  45.8\n",
       "4     2.18  7.147  54.2\n",
       "..     ...    ...   ...\n",
       "501  11.93  6.593  69.1\n",
       "502  11.93  6.120  76.7\n",
       "503  11.93  6.976  91.0\n",
       "504  11.93  6.794  89.3\n",
       "505  11.93  6.030  80.8\n",
       "\n",
       "[506 rows x 3 columns]"
      ]
     },
     "execution_count": 112,
     "metadata": {},
     "output_type": "execute_result"
    }
   ],
   "source": [
    "X.iloc[:,[1,3,4]]"
   ]
  },
  {
   "cell_type": "markdown",
   "id": "01274cfe-8cb8-4a9d-8335-bee08e65d621",
   "metadata": {},
   "source": [
    "### Problem 2\n",
    "\n",
    "#### Part (a)"
   ]
  },
  {
   "cell_type": "code",
   "execution_count": null,
   "id": "08752605-3637-4a49-8380-2aebfe2d04ee",
   "metadata": {},
   "outputs": [],
   "source": [
    "df = "
   ]
  },
  {
   "cell_type": "markdown",
   "id": "a0f2fdf0-e689-4e5d-920c-33f3cd36c5f9",
   "metadata": {},
   "source": [
    "### Part (b)"
   ]
  },
  {
   "cell_type": "code",
   "execution_count": 97,
   "id": "41c44a1b-dc64-4368-91bc-a0d65c770d42",
   "metadata": {},
   "outputs": [],
   "source": [
    "W = np.random.rand(200,50)\n",
    "D = np.random.rand(1,200).reshape(-1,1)\n",
    "Y = D * 3 + np.random.normal(size=200)\n",
    "X = np.concatenate((D,W),axis=1)"
   ]
  },
  {
   "cell_type": "code",
   "execution_count": 99,
   "id": "c490d66f-cc6b-49f8-a003-00c506c08a9a",
   "metadata": {},
   "outputs": [],
   "source": [
    "from sklearn.linear_model import LinearRegression, LassoCV\n",
    "import cvxpy as c"
   ]
  },
  {
   "cell_type": "code",
   "execution_count": 104,
   "id": "ba96e29c-930b-4d2b-aede-dcdd43712b53",
   "metadata": {},
   "outputs": [
    {
     "ename": "IndentationError",
     "evalue": "expected an indented block (3877583650.py, line 8)",
     "output_type": "error",
     "traceback": [
      "\u001b[0;36m  File \u001b[0;32m\"/var/folders/fp/_7x5x4s175369fk6b5b5xhy40000gn/T/ipykernel_64564/3877583650.py\"\u001b[0;36m, line \u001b[0;32m8\u001b[0m\n\u001b[0;31m    def Lasso(X,Y):\u001b[0m\n\u001b[0m                   ^\u001b[0m\n\u001b[0;31mIndentationError\u001b[0m\u001b[0;31m:\u001b[0m expected an indented block\n"
     ]
    }
   ],
   "source": [
    "def OLS(X,Y):\n",
    "    ols = LinearRegression()\n",
    "    ols.fit(X,Y)\n",
    "    beta_1 = ols.coef_.flatten()[0]\n",
    "    return beta_1\n",
    "\n",
    "def Lasso(X,Y):\n",
    "    lasso = LassoCV()\n",
    "    lasso.fit(X,Y)\n",
    "    beta_1 = lasso.coef_.flatten()[0]\n",
    "    return beta_1\n",
    "\n",
    "def Dantzig(D,W,Y):\n",
    "    pass\n",
    "\n",
    "def Post(X,Y):\n",
    "    # variable selection\n",
    "    lasso = LassoCV()\n",
    "    lasso.fit(X,Y)\n",
    "    var_select = [i for i, coef in enumerate(lasso.coef_.flatten()) if coef != 0]\n",
    "    X_select = X.iloc[:,var_select]\n",
    "    \n",
    "    # OLS\n",
    "    return OLS(X_select,Y)\n",
    "    \n",
    "\n",
    "def Double(D,W,Y):\n",
    "    X = np.concatenate((D,W),axis=1)\n",
    "    \n",
    "    # obtain gamma\n",
    "    gamma = Lasso(W,D)\n",
    "    \n",
    "    # beta1, beta2\n",
    "    lasso = LassoCV()\n",
    "    lasso.fit(X,Y)\n",
    "    beta_1 = lasso.coef_.flatten()[0]\n",
    "    beta_2 = lasso.coef_.flatten()[1:]\n",
    "    \n",
    "    # estimation\n",
    "    n = X.shape[0]\n",
    "    num = (1/n) * (np.sum((Y - W @ beta_2) * (D - W @ gamma)))\n",
    "    denom = (1/n) * (np.sum(D * (D - W @ gamma)))\n",
    "    beta_DL = num / denom\n",
    "    return beta_DL"
   ]
  },
  {
   "cell_type": "code",
   "execution_count": 105,
   "id": "ee320e1a-1e83-4a05-9101-c9589ad0bfad",
   "metadata": {},
   "outputs": [],
   "source": [
    "temp = np.random.randint(0,5,size=100)"
   ]
  },
  {
   "cell_type": "code",
   "execution_count": 109,
   "id": "e5b8284e-cc92-42b2-b350-52ae970b1a80",
   "metadata": {},
   "outputs": [
    {
     "data": {
      "text/plain": [
       "array([1, 4, 1, 0, 1, 3, 1, 2, 1, 1, 0, 3, 2, 2, 1, 4, 4, 1, 0, 2, 2, 3,\n",
       "       1, 3, 4, 4, 3, 4, 2, 3, 4, 1, 0, 3, 1, 4, 4, 3, 2, 4, 4, 3, 0, 4,\n",
       "       1, 2, 3, 4, 2, 1, 2, 4, 0, 1, 4, 2, 4, 2, 2, 0, 0, 4, 0, 1, 4, 0,\n",
       "       4, 4, 2, 3, 2, 4, 0, 4, 3, 3, 0, 1, 3, 1, 2, 0, 4, 0, 0, 0, 0, 3,\n",
       "       0, 0, 1, 4, 4, 1, 2, 0, 3, 0, 0, 2])"
      ]
     },
     "execution_count": 109,
     "metadata": {},
     "output_type": "execute_result"
    }
   ],
   "source": [
    "temp"
   ]
  },
  {
   "cell_type": "code",
   "execution_count": 108,
   "id": "19fa9b8f-8a76-4617-8987-2a13c698dca7",
   "metadata": {},
   "outputs": [
    {
     "data": {
      "text/plain": [
       "array([1, 1, 1, 0, 1, 1, 1, 1, 1, 1, 0, 1, 1, 1, 1, 1, 1, 1, 0, 1, 1, 1,\n",
       "       1, 1, 1, 1, 1, 1, 1, 1, 1, 1, 0, 1, 1, 1, 1, 1, 1, 1, 1, 1, 0, 1,\n",
       "       1, 1, 1, 1, 1, 1, 1, 1, 0, 1, 1, 1, 1, 1, 1, 0, 0, 1, 0, 1, 1, 0,\n",
       "       1, 1, 1, 1, 1, 1, 0, 1, 1, 1, 0, 1, 1, 1, 1, 0, 1, 0, 0, 0, 0, 1,\n",
       "       0, 0, 1, 1, 1, 1, 1, 0, 1, 0, 0, 1])"
      ]
     },
     "execution_count": 108,
     "metadata": {},
     "output_type": "execute_result"
    }
   ],
   "source": [
    "np.where(temp != 0, 1, 0)"
   ]
  },
  {
   "cell_type": "markdown",
   "id": "72e99c29-8887-462a-b682-bf680e7ce655",
   "metadata": {},
   "source": [
    "### Part (c)"
   ]
  },
  {
   "cell_type": "code",
   "execution_count": null,
   "id": "5a895d8c-e05e-42ac-b855-43b86e63451f",
   "metadata": {},
   "outputs": [],
   "source": []
  }
 ],
 "metadata": {
  "kernelspec": {
   "display_name": "Python 3 (ipykernel)",
   "language": "python",
   "name": "python3"
  },
  "language_info": {
   "codemirror_mode": {
    "name": "ipython",
    "version": 3
   },
   "file_extension": ".py",
   "mimetype": "text/x-python",
   "name": "python",
   "nbconvert_exporter": "python",
   "pygments_lexer": "ipython3",
   "version": "3.9.13"
  }
 },
 "nbformat": 4,
 "nbformat_minor": 5
}
