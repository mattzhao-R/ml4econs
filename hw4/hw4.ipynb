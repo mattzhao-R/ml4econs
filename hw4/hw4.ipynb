{
 "cells": [
  {
   "cell_type": "code",
   "execution_count": 1,
   "id": "c63dfa42-c580-4a10-af81-898e534facf9",
   "metadata": {},
   "outputs": [],
   "source": [
    "import pandas as pd\n",
    "import numpy as np\n",
    "import matplotlib.pyplot as plt\n",
    "import time\n",
    "\n",
    "from multiprocessing.pool import ThreadPool\n",
    "from multiprocessing import cpu_count\n",
    "max_cpu = cpu_count()"
   ]
  },
  {
   "cell_type": "code",
   "execution_count": 2,
   "id": "a8a8b185-40d3-4eca-ace5-20ae39d345b7",
   "metadata": {},
   "outputs": [],
   "source": [
    "from sklearn.ensemble import RandomForestRegressor\n",
    "from sklearn.ensemble import RandomForestClassifier\n",
    "from sklearn.model_selection import GridSearchCV"
   ]
  },
  {
   "cell_type": "markdown",
   "id": "37ad676a-af5c-43b0-8dda-00600d4a7236",
   "metadata": {
    "tags": []
   },
   "source": [
    "#### Part (a)\n",
    "\n"
   ]
  },
  {
   "cell_type": "markdown",
   "id": "22c7d71a-6380-470a-9ae1-41b6ce8df49c",
   "metadata": {},
   "source": []
  },
  {
   "cell_type": "markdown",
   "id": "8583424d-92e3-441c-8ae6-aa300093e628",
   "metadata": {
    "tags": []
   },
   "source": [
    "#### Part (b)\n",
    "\n"
   ]
  },
  {
   "cell_type": "markdown",
   "id": "b51fe8ca-6045-4480-90a6-3d0aa5eeae4c",
   "metadata": {},
   "source": []
  },
  {
   "cell_type": "markdown",
   "id": "a1d36f8d-5bbe-4f4b-af1d-593146a71986",
   "metadata": {
    "tags": []
   },
   "source": [
    "#### Part (c)\n",
    "\n"
   ]
  },
  {
   "cell_type": "markdown",
   "id": "3f9486e3-41cf-4fde-9400-6b2e3f9e24b2",
   "metadata": {},
   "source": []
  },
  {
   "cell_type": "markdown",
   "id": "6276dd72-8dd4-4de0-9b04-417679f852de",
   "metadata": {
    "tags": []
   },
   "source": [
    "#### Part (d)\n",
    "\n"
   ]
  },
  {
   "cell_type": "code",
   "execution_count": 3,
   "id": "a7be0c54-5ad6-4738-8d1d-2b19d7a045b6",
   "metadata": {},
   "outputs": [],
   "source": [
    "def DGP():\n",
    "    Z = np.random.uniform(0,1,size=(500,10))\n",
    "    epsilon, nu = np.random.normal(0,0.25,size=(500,1)), np.random.normal(0,0.25,size=(500,1))\n",
    "    g_z = np.multiply(Z[:,1],np.add(Z[:,2],Z[:,3]))\n",
    "    X = g_z.reshape(500,1) + nu\n",
    "    m_xz = np.multiply(X,(np.add(Z[:,1],Z[:,2]) ** 2).reshape(500,1))\n",
    "    y = m_xz.reshape(500,1) + epsilon\n",
    "\n",
    "    gamma = np.random.normal(size=(10,1))\n",
    "    p_z = np.exp(-Z @ gamma) / (1 + np.exp(-Z @ gamma))\n",
    "    zeta = np.random.uniform(0,1)\n",
    "    D = np.where((p_z - zeta) > 0,1,0).reshape(500,1)\n",
    "    \n",
    "    return np.concatenate((y,X,Z,D),axis=1)\n",
    "\n",
    "def calc_theta(Y,X,D,phi,pi,prop):\n",
    "    num = ((X * Y * D) / prop) - ((D - prop) * (phi / prop))\n",
    "    e_num = np.sum(num) / num.shape[0]\n",
    "    denom = (((X ** 2) * D) / prop)  - ((D - prop) * (pi / prop))\n",
    "    e_denom = np.sum(denom) / denom.shape[0]\n",
    "    theta_hat = (e_num / e_denom)\n",
    "    \n",
    "    return theta_hat\n",
    "\n",
    "def calc_J(X,D,pi,prop):\n",
    "    J = (1 / prop) * ((X ** 2) * D - (D - prop) * pi)\n",
    "    e_J = np.sum(J) / J.shape[0]\n",
    "    \n",
    "    return e_J\n",
    "\n",
    "def calc_g(Y,X,D,phi,pi,prop,theta):\n",
    "    left = ((((X ** 2) * D) / prop) - ((D - prop) * (pi / prop))) * theta\n",
    "    right = ((X * Y * D) / prop) + ((D - prop) * (phi / prop))\n",
    "    g = left - right\n",
    "    e_g = np.sum(g) / g.shape[0]\n",
    "    \n",
    "    return e_g\n",
    "\n",
    "def cv(data,k=5):\n",
    "    I_sections = np.array_split(data,5)\n",
    "\n",
    "    thetas = []\n",
    "    gs = []\n",
    "    for i,_ in enumerate(I_sections):\n",
    "        I_k = I_sections[i]\n",
    "        I_minusk_sections = I_sections[:i] + I_sections[i+1:]\n",
    "        I_minusk = np.concatenate(I_minusk_sections,axis=0)\n",
    "        \n",
    "        # estimating theta_k\n",
    "        ## estimating nuisance parameters\n",
    "        Z_minusk = I_minusk[:,3:13]\n",
    "        data_D1_minusk = I_minusk[I_minusk[:,-1] == 1]\n",
    "        Z_D1_minusk = I_minusk[:,3:13]\n",
    "\n",
    "        phi_rf = RandomForestRegressor(random_state=14)\n",
    "        phi_cv = GridSearchCV(phi_rf, n_jobs = -1,\n",
    "                              param_grid = {'max_features':np.arange(1,11)})\n",
    "        phi_cv.fit(Z_D1_minusk,I_minusk[:,0] * I_minusk[:,1])\n",
    "\n",
    "        pi_rf = RandomForestRegressor(random_state=14)\n",
    "        pi_cv = GridSearchCV(pi_rf, n_jobs = -1,\n",
    "                             param_grid = {'max_features':np.arange(1,11)})\n",
    "        pi_cv.fit(Z_D1_minusk,I_minusk[:,1] ** 2)\n",
    "\n",
    "        prop_rf = RandomForestClassifier(random_state=14)\n",
    "        prop_cv = GridSearchCV(prop_rf, n_jobs = -1,\n",
    "                               param_grid = {'max_features':np.arange(1,11)})\n",
    "        prop_cv.fit(Z_minusk,I_minusk[:,-1])\n",
    "\n",
    "\n",
    "        ## calculate theta_k\n",
    "        Z_k = I_k[:,3:13].reshape(I_k.shape[0],10)\n",
    "\n",
    "        Y_k = I_k[:,0].reshape(I_k.shape[0],1)\n",
    "        X_k = I_k[:,1].reshape(I_k.shape[0],1)\n",
    "        D_k = I_k[:,-1].reshape(I_k.shape[0],1)\n",
    "\n",
    "        phi_hat = phi_cv.predict(Z_k).reshape(Z_k.shape[0],1)\n",
    "        pi_hat = pi_cv.predict(Z_k).reshape(Z_k.shape[0],1)\n",
    "        temp = np.where(prop_cv.predict_proba(Z_k)[:,1] == 0, 0.001, prop_cv.predict_proba(Z_k)[:,1])\n",
    "        prop_hat = np.where(temp == 1, 0.999, temp).reshape(Z_k.shape[0],1)\n",
    "\n",
    "        theta_k = calc_theta(Y_k,X_k,D_k,phi_hat,pi_hat,prop_hat)\n",
    "        thetas.append(theta_k)\n",
    "        \n",
    "        # variance estimator\n",
    "        g = calc_g(Y_k,X_k,D_k,phi_hat,pi_hat,prop_hat,theta_k)\n",
    "        gs.append(g)        \n",
    "        \n",
    "    theta_hat = sum(thetas) / k\n",
    "    g = sum(gs) / k\n",
    "    \n",
    "    ## calculating J\n",
    "    phi_rf = RandomForestRegressor(random_state=14)\n",
    "    phi_cv = GridSearchCV(phi_rf, n_jobs = -1,\n",
    "                          param_grid = {'max_features':np.arange(1,11)})\n",
    "    phi_cv.fit(data[data[:,-1] == 1][:,3:13],\n",
    "               data[data[:,-1] == 1][:,0] * data[data[:,-1] == 1][:,1])\n",
    "\n",
    "    pi_rf = RandomForestRegressor(random_state=14)\n",
    "    pi_cv = GridSearchCV(pi_rf, n_jobs = -1,\n",
    "                         param_grid = {'max_features':np.arange(1,11)})\n",
    "    pi_cv.fit(data[data[:,-1] == 1][:,3:13],data[data[:,-1] == 1][:,1] ** 2)\n",
    "\n",
    "    prop_rf = RandomForestClassifier(random_state=14)\n",
    "    prop_cv = GridSearchCV(prop_rf, n_jobs = -1,\n",
    "                           param_grid = {'max_features':np.arange(1,11)})\n",
    "    prop_cv.fit(data[:,3:13],data[:,-1])\n",
    "    \n",
    "    phi_hat = phi_cv.predict(data[:,3:13])\n",
    "    pi_hat = pi_cv.predict(data[:,3:13])\n",
    "    temp = np.where(prop_cv.predict_proba(data[:,3:13])[:,1] == 0, \n",
    "                    0.001, \n",
    "                    prop_cv.predict_proba(data[:,3:13])[:,1])\n",
    "    prop_hat = np.where(temp == 1, 0.999, temp).reshape(data[:,3:13].shape[0],1)\n",
    "    \n",
    "    X = data[:,1].reshape(data.shape[0],1)\n",
    "    D = data[:,-1].reshape(data.shape[0],1)\n",
    "    J = calc_J(X,D,pi_hat,prop_hat)\n",
    "    \n",
    "    ## calculating variance\n",
    "    var_hat = (1 / J) * (g ** 2) * (1 / J)\n",
    "    \n",
    "    return theta_hat, var_hat"
   ]
  },
  {
   "cell_type": "code",
   "execution_count": 4,
   "id": "be80ee0c-32d2-4f25-b7f5-22664d4e9e35",
   "metadata": {},
   "outputs": [],
   "source": [
    "data = DGP()"
   ]
  },
  {
   "cell_type": "code",
   "execution_count": 5,
   "id": "3b8f96c1-99df-413e-a5c3-04b0cd9a2214",
   "metadata": {
    "tags": []
   },
   "outputs": [],
   "source": [
    "theta_hat, var_hat = cv(data)"
   ]
  },
  {
   "cell_type": "code",
   "execution_count": 6,
   "id": "f229ed5f-81d2-49d0-802e-56bb114a5501",
   "metadata": {},
   "outputs": [
    {
     "data": {
      "text/plain": [
       "1.9009819308208555"
      ]
     },
     "execution_count": 6,
     "metadata": {},
     "output_type": "execute_result"
    }
   ],
   "source": [
    "theta_hat"
   ]
  },
  {
   "cell_type": "code",
   "execution_count": 8,
   "id": "48ed5118-419a-4430-9c39-c9a9f57c8fb2",
   "metadata": {},
   "outputs": [
    {
     "data": {
      "text/plain": [
       "4.715738530596786e-05"
      ]
     },
     "execution_count": 8,
     "metadata": {},
     "output_type": "execute_result"
    }
   ],
   "source": [
    "var_hat"
   ]
  },
  {
   "cell_type": "code",
   "execution_count": 10,
   "id": "20b0fa8c-827f-4841-a2ec-60ede3f762cb",
   "metadata": {},
   "outputs": [
    {
     "data": {
      "text/plain": [
       "0.0003071070995791789"
      ]
     },
     "execution_count": 10,
     "metadata": {},
     "output_type": "execute_result"
    }
   ],
   "source": [
    "se = np.sqrt(var_hat / data.shape[0])\n",
    "se"
   ]
  },
  {
   "cell_type": "code",
   "execution_count": 11,
   "id": "0960f9d1-e9cd-4066-b328-554acd7ad677",
   "metadata": {},
   "outputs": [
    {
     "name": "stdout",
     "output_type": "stream",
     "text": [
      "1.9006748237212763 1.9012890379204348\n"
     ]
    }
   ],
   "source": [
    "# 95% CI\n",
    "\n",
    "print(theta_hat - se, theta_hat + se)"
   ]
  },
  {
   "cell_type": "code",
   "execution_count": null,
   "id": "a6fdc67e-141a-4bc4-a67b-64c364a54eb8",
   "metadata": {},
   "outputs": [],
   "source": []
  }
 ],
 "metadata": {
  "kernelspec": {
   "display_name": "class",
   "language": "python",
   "name": "class"
  },
  "language_info": {
   "codemirror_mode": {
    "name": "ipython",
    "version": 3
   },
   "file_extension": ".py",
   "mimetype": "text/x-python",
   "name": "python",
   "nbconvert_exporter": "python",
   "pygments_lexer": "ipython3",
   "version": "3.10.9"
  }
 },
 "nbformat": 4,
 "nbformat_minor": 5
}
