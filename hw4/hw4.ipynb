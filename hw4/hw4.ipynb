{
 "cells": [
  {
   "cell_type": "code",
   "execution_count": 97,
   "id": "c63dfa42-c580-4a10-af81-898e534facf9",
   "metadata": {},
   "outputs": [],
   "source": [
    "import pandas as pd\n",
    "import numpy as np\n",
    "import matplotlib.pyplot as plt\n",
    "import time\n",
    "\n",
    "from multiprocessing.pool import ThreadPool\n",
    "from multiprocessing import cpu_count\n",
    "max_cpu = cpu_count()"
   ]
  },
  {
   "cell_type": "code",
   "execution_count": 98,
   "id": "a8a8b185-40d3-4eca-ace5-20ae39d345b7",
   "metadata": {},
   "outputs": [],
   "source": [
    "from sklearn.ensemble import RandomForestRegressor\n",
    "from sklearn.ensemble import RandomForestClassifier\n",
    "from sklearn.model_selection import GridSearchCV"
   ]
  },
  {
   "cell_type": "markdown",
   "id": "37ad676a-af5c-43b0-8dda-00600d4a7236",
   "metadata": {
    "tags": []
   },
   "source": [
    "#### Part (a)\n",
    "\n"
   ]
  },
  {
   "cell_type": "markdown",
   "id": "22c7d71a-6380-470a-9ae1-41b6ce8df49c",
   "metadata": {},
   "source": []
  },
  {
   "cell_type": "markdown",
   "id": "8583424d-92e3-441c-8ae6-aa300093e628",
   "metadata": {
    "tags": []
   },
   "source": [
    "#### Part (b)\n",
    "\n"
   ]
  },
  {
   "cell_type": "markdown",
   "id": "b51fe8ca-6045-4480-90a6-3d0aa5eeae4c",
   "metadata": {},
   "source": []
  },
  {
   "cell_type": "markdown",
   "id": "a1d36f8d-5bbe-4f4b-af1d-593146a71986",
   "metadata": {
    "tags": []
   },
   "source": [
    "#### Part (c)\n",
    "\n"
   ]
  },
  {
   "cell_type": "markdown",
   "id": "3f9486e3-41cf-4fde-9400-6b2e3f9e24b2",
   "metadata": {},
   "source": []
  },
  {
   "cell_type": "markdown",
   "id": "6276dd72-8dd4-4de0-9b04-417679f852de",
   "metadata": {
    "tags": []
   },
   "source": [
    "#### Part (d)\n",
    "\n"
   ]
  },
  {
   "cell_type": "code",
   "execution_count": 99,
   "id": "a7be0c54-5ad6-4738-8d1d-2b19d7a045b6",
   "metadata": {},
   "outputs": [],
   "source": [
    "def DGP():\n",
    "    Z = np.random.uniform(0,1,size=(500,10))\n",
    "    epsilon, nu = np.random.normal(0,0.25,size=(500,1)), np.random.normal(0,0.25,size=(500,1))\n",
    "    g_z = np.multiply(Z[:,1],np.add(Z[:,2],Z[:,3]))\n",
    "    X = g_z.reshape(500,1) + nu\n",
    "    m_xz = np.multiply(X,(np.add(Z[:,1],Z[:,2]) ** 2).reshape(500,1))\n",
    "    y = m_xz.reshape(500,1) + epsilon\n",
    "\n",
    "    gamma = np.random.normal(size=(10,1))\n",
    "    p_z = np.exp(-Z @ gamma) / (1 + np.exp(-Z @ gamma))\n",
    "    zeta = np.random.uniform(0,1)\n",
    "    D = np.where((p_z - zeta) > 0,1,0).reshape(500,1)\n",
    "    \n",
    "    return np.concatenate((y,X,Z,D),axis=1)\n",
    "\n",
    "def cv(data,k=5):\n",
    "    n = X.shape[0]\n",
    "    I_sections = np.array_split(data,5)\n",
    "    # # creating indices for folds\n",
    "    # folds = []\n",
    "    # remaining_idx = np.arange(n)\n",
    "    # for i in np.arange(k):\n",
    "    #     indices = np.random.choice(remaining_idx,round(n * 1/k), replace=False)\n",
    "    #     remaining_idx = np.setdiff1d(remaining_idx, indices)\n",
    "    #     folds.append(indices)\n",
    "    \n",
    "    # \n",
    "    thetas = []\n",
    "    for i,_ in enumerate(I_sections):\n",
    "        I_k = I_sections[i]\n",
    "        I_minusk_sections = I_sections[:i] + I_sections[i+1:]\n",
    "        I_minusk = np.concatenate(I_minusk,axis=0)\n",
    "        \n",
    "        # estimating theta_k\n",
    "        ## estimating nuisance parameters\n",
    "        Z = I_minusk[:,3:13]\n",
    "        data_D1 = I_minusk[I_minusk[:,-1] == 1]\n",
    "        Z_D1 = I_minusk[:,3:13]\n",
    "        \n",
    "        phi_rf = RandomForestRegressor(random_state=14)\n",
    "        phi_cv = GridSearchCV(phi_rf, n_jobs = -1,\n",
    "                              param_grid = {'max_features':np.arange(1,11)})\n",
    "        phi_cv.fit(Z_D1,I_minusk[:,0] * I_minusk[:,1])\n",
    "        \n",
    "        pi_rf = RandomForestRegressor(random_state=14)\n",
    "        pi_cv = GridSearchCV(pi_rf, n_jobs = -1,\n",
    "                             param_grid = {'max_features':np.arange(1,11)})\n",
    "        pi_cv.fit(Z_D1,I_minusk[:,1] ** 2)\n",
    "        \n",
    "        prop_rf = RandomForestRegressor(random_state=14)\n",
    "        prop_cv = GridSearchCV(prop_rf, n_jobs = -1,\n",
    "                               param_grid = {'max_features':np.arange(1,11)})\n",
    "        prop_cv.fit(Z,I_minusk[:,-1])\n",
    "        \n",
    "        phi_hat = phi_cv.predict(I_k)\n",
    "        pi_hat = pi_cv.predict(I_k)\n",
    "        prop_hat = prop_cv.predict(I_k)\n",
    "        \n",
    "        ## calculate theta_k\n",
    "        \n",
    "        \n",
    "        \n",
    "        # variance estimator\n",
    "        ## \n",
    "        \n",
    "        \n",
    "        X_train, X_test, Y_train, Y_test = train_test_split(X,Y,folds,i)\n",
    "        betas = lasso(X_train,Y_train,lambda_)\n",
    "        predicted = X_test @ betas\n",
    "        error = sse(predicted,Y_test)\n",
    "        total_error += error\n",
    "    return thetas"
   ]
  },
  {
   "cell_type": "code",
   "execution_count": 100,
   "id": "be80ee0c-32d2-4f25-b7f5-22664d4e9e35",
   "metadata": {},
   "outputs": [],
   "source": [
    "data = DGP()"
   ]
  },
  {
   "cell_type": "code",
   "execution_count": 101,
   "id": "0ebc5b29-ff32-4759-a58b-7cdf153f56e8",
   "metadata": {},
   "outputs": [],
   "source": [
    "Z = data[:,3:13]"
   ]
  },
  {
   "cell_type": "code",
   "execution_count": 102,
   "id": "ff62cbdd-22e0-4e03-a348-eb46be19e867",
   "metadata": {},
   "outputs": [],
   "source": [
    "data_D1 = data[data[:,-1] == 1]\n",
    "Z_D1 = data_D1[:,3:13]"
   ]
  },
  {
   "cell_type": "code",
   "execution_count": 117,
   "id": "a3b284f2-b975-4f75-9b93-ee47b5da896d",
   "metadata": {},
   "outputs": [],
   "source": [
    "I_sections = np.array_split(data,5)\n",
    "I_k = I_sections[i]\n",
    "I_minusk = I_sections[:i] + I_sections[i+1:]"
   ]
  },
  {
   "cell_type": "code",
   "execution_count": 119,
   "id": "b7aee1b0-cbf3-419a-bbb0-441940d29ccf",
   "metadata": {},
   "outputs": [
    {
     "data": {
      "text/plain": [
       "(400, 13)"
      ]
     },
     "execution_count": 119,
     "metadata": {},
     "output_type": "execute_result"
    }
   ],
   "source": [
    "np.concatenate(I_minusk,axis=0).shape"
   ]
  },
  {
   "cell_type": "code",
   "execution_count": null,
   "id": "3b8f96c1-99df-413e-a5c3-04b0cd9a2214",
   "metadata": {},
   "outputs": [],
   "source": []
  },
  {
   "cell_type": "code",
   "execution_count": null,
   "id": "2766a37e-3220-47ca-ac2c-e9914cf04306",
   "metadata": {},
   "outputs": [],
   "source": []
  }
 ],
 "metadata": {
  "kernelspec": {
   "display_name": "class",
   "language": "python",
   "name": "class"
  },
  "language_info": {
   "codemirror_mode": {
    "name": "ipython",
    "version": 3
   },
   "file_extension": ".py",
   "mimetype": "text/x-python",
   "name": "python",
   "nbconvert_exporter": "python",
   "pygments_lexer": "ipython3",
   "version": "3.10.9"
  }
 },
 "nbformat": 4,
 "nbformat_minor": 5
}
